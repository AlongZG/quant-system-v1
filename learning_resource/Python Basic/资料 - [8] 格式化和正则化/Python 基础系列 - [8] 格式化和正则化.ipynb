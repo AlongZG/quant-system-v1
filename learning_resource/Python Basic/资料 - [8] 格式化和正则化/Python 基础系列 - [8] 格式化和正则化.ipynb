{
 "cells": [
  {
   "cell_type": "markdown",
   "metadata": {},
   "source": [
    "# <div style=\"text-align: center\"><font color='#dc2624' face='微软雅黑'>Python 基础系列</font></div>\n",
    "## <div style=\"text-align: center\"><font color='#dc2624' face='微软雅黑'>格式化和正则化</font></div>\n",
    "\n",
    "## <font color='#dc2624' face='微软雅黑'>目录</font><a name='toc'></a>\n",
    "### 1. [**<font color='#dc2624' face='微软雅黑'>格式化</font>**](#1)\n",
    "1. [<font color='#2b4750' face='微软雅黑'>四种方法</font>](#1.1)\n",
    "2. [<font color='#2b4750' face='微软雅黑'>`f-string`</font>](#1.2)\n",
    "\n",
    "### 2. [**<font color='#dc2624' face='微软雅黑'>元字符</font>**](#2)\n",
    "1. [<font color='#2b4750' face='微软雅黑'>原始字符串</font>](#2.1)\n",
    "2. [<font color='#2b4750' face='微软雅黑'>集合字符</font>](#2.2)\n",
    "3. [<font color='#2b4750' face='微软雅黑'>次数字符</font>](#2.3)\n",
    "4. [<font color='#2b4750' face='微软雅黑'>并列字符</font>](#2.4)\n",
    "5. [<font color='#2b4750' face='微软雅黑'>提取字符</font>](#2.5)\n",
    "6. [<font color='#2b4750' face='微软雅黑'>转义字符</font>](#2.6)\n",
    "\n",
    "### 3. [**<font color='#dc2624' face='微软雅黑'>RE 函数</font>**](#3)\n",
    "1. [<font color='#2b4750' face='微软雅黑'>`match` 函数</font>](#3.1)\n",
    "2. [<font color='#2b4750' face='微软雅黑'>`search` 函数</font>](#3.2)\n",
    "3. [<font color='#2b4750' face='微软雅黑'>`findall` 函数</font>](#3.3)\n",
    "4. [<font color='#2b4750' face='微软雅黑'>`finditer` 函数</font>](#3.4)\n",
    "5. [<font color='#2b4750' face='微软雅黑'>`split` 函数</font>](#3.5)\n",
    "6. [<font color='#2b4750' face='微软雅黑'>`sub` 函数</font>](#3.6)\n",
    "7. [<font color='#2b4750' face='微软雅黑'>`compile` 函数</font>](#3.7)\n",
    "\n",
    "### 4. [**<font color='#dc2624' face='微软雅黑'>习题</font>**](#4)\n",
    "---"
   ]
  },
  {
   "cell_type": "markdown",
   "metadata": {},
   "source": [
    "# <font color='#dc2624' face='微软雅黑'>1. 格式化</font><a name='1'></a>\n",
    "[<font color='black' face='微软雅黑'>回到目录</font>](#toc)\n",
    "### <font color='#2b4750' face='微软雅黑'>1.1 四种方法</font><a name='1.1'></a>\n",
    "[<font color='black' face='微软雅黑'>回到章首</font>](#1)\n",
    "\n",
    "在 Python 中格式化字符串有四种方法：\n",
    "\n",
    "- 用 % 字符\n",
    "- 用 $ 字符\n",
    "- 用 `format()` 函数\n",
    "- 用 f-string\n",
    "\n",
    "本小节中都以下面这句话举例，即“在 2020 年 3 月 4 日，阿里巴巴的市值为 553789 百万美元”。"
   ]
  },
  {
   "cell_type": "code",
   "execution_count": 2,
   "metadata": {},
   "outputs": [
    {
     "data": {
      "text/plain": [
       "'On 04 Mar 2020, the market cap of Alibaba is 553789 mio USD.'"
      ]
     },
     "execution_count": 2,
     "metadata": {},
     "output_type": "execute_result"
    }
   ],
   "source": [
    "s = 'On 04 Mar 2020, the market cap of Alibaba is 553789 mio USD.'\n",
    "s"
   ]
  },
  {
   "cell_type": "code",
   "execution_count": 4,
   "metadata": {},
   "outputs": [],
   "source": [
    "from datetime import datetime\n",
    "(date, stock, Mcap, unit, curr) = (datetime(2020,3,4), 'Alibaba', 553789, 'mio', 'USD')"
   ]
  },
  {
   "cell_type": "code",
   "execution_count": 44,
   "metadata": {},
   "outputs": [
    {
     "name": "stdout",
     "output_type": "stream",
     "text": [
      "It costs Steven 123.46\n",
      "It costs Steven 123.46\n",
      "It costs Steven 123.46\n"
     ]
    }
   ],
   "source": [
    "(name, amount) = ('Steven', 123.456)\n",
    "print( 'It costs %s %.2f' %(name, amount) )\n",
    "print( 'It costs {0:s} {1:.2f}'.format(name, amount) )\n",
    "print( f'It costs {name:s} {amount:.2f}' )"
   ]
  },
  {
   "cell_type": "markdown",
   "metadata": {},
   "source": [
    "### 用 % 字符\n",
    "\n",
    "范式：\n",
    "\n",
    "1. 写句子，再用 % 加小括号，里面列出要被格式化的变量名\n",
    "2. 在句子一一对应变量名的地方写出 **%x** (d 代表数字，s 代表字符串，等等)"
   ]
  },
  {
   "cell_type": "code",
   "execution_count": 5,
   "metadata": {},
   "outputs": [
    {
     "data": {
      "text/plain": [
       "'The market cap of Alibaba is 553789 mio USD.'"
      ]
     },
     "execution_count": 5,
     "metadata": {},
     "output_type": "execute_result"
    }
   ],
   "source": [
    "'The market cap of Alibaba is %d mio %s.' %(Mcap, curr)"
   ]
  },
  {
   "cell_type": "markdown",
   "metadata": {},
   "source": [
    "### 用 $ 字符\n",
    "\n",
    "范式：\n",
    "\n",
    "1. 将变量名和变量值作为键和值，创建一个字典\n",
    "2. 要调用 `Template` 库函数并将句子传给它，再把字典传入 `substitute()` 函数\n",
    "3. 在句子一一对应变量名的地方写出 **$k** (k 代表字典中的键)"
   ]
  },
  {
   "cell_type": "code",
   "execution_count": 6,
   "metadata": {},
   "outputs": [
    {
     "data": {
      "text/plain": [
       "'The market cap of Alibaba is 553789 mio USD.'"
      ]
     },
     "execution_count": 6,
     "metadata": {},
     "output_type": "execute_result"
    }
   ],
   "source": [
    "from string import Template\n",
    "\n",
    "info = dict(Mcap=Mcap, curr=curr)\n",
    "Template('The market cap of Alibaba is $Mcap mio $curr.').substitute(info)"
   ]
  },
  {
   "cell_type": "markdown",
   "metadata": {},
   "source": [
    "### 用 `format()` 函数\n",
    "\n",
    "范式：\n",
    "\n",
    "1. 写句子，再用 `format()` 函数，里面列出要被格式化的变量名\n",
    "2. 在句子一一对应变量名的地方只用写出 `{}`。"
   ]
  },
  {
   "cell_type": "code",
   "execution_count": 7,
   "metadata": {},
   "outputs": [
    {
     "data": {
      "text/plain": [
       "'The market cap of Alibaba is 553789 mio USD.'"
      ]
     },
     "execution_count": 7,
     "metadata": {},
     "output_type": "execute_result"
    }
   ],
   "source": [
    "'The market cap of Alibaba is {} mio {}.'.format(Mcap, curr)"
   ]
  },
  {
   "cell_type": "markdown",
   "metadata": {},
   "source": [
    "### 用 f-string\n",
    "\n",
    "范式：\n",
    "\n",
    "1. 写句子，以 `f'   '` 或 `F'   '` 的形式\n",
    "2. 在句子中标出 `{v}`，其中 `v` 是要被格式化的变量"
   ]
  },
  {
   "cell_type": "code",
   "execution_count": 8,
   "metadata": {},
   "outputs": [
    {
     "data": {
      "text/plain": [
       "'The market cap of Alibaba is 553789 mio USD.'"
      ]
     },
     "execution_count": 8,
     "metadata": {},
     "output_type": "execute_result"
    }
   ],
   "source": [
    "f'The market cap of Alibaba is {Mcap} mio {curr}.'"
   ]
  },
  {
   "cell_type": "markdown",
   "metadata": {},
   "source": [
    "由上所知，用 f-string 比其他三个用起来更简单更自然，而且它还是最快的。\n",
    "\n",
    "当决定用哪种格式化时，通常我们评估它是否简单直观而且符合自己的习惯，比如\n",
    "\n",
    "- 那些有 C 语言背景的使用者就偏向用 \"%\" 字符\n",
    "- 那些偏好标准化的使用者就偏向用 \"$\" 字符\n",
    "- 那些偏好个性化的使用者就偏向用 `format` 函数\n",
    "\n",
    "下面就来细看 f-string 方法。"
   ]
  },
  {
   "cell_type": "markdown",
   "metadata": {},
   "source": [
    "### <font color='#2b4750' face='微软雅黑'>1.2 `f-string`</font><a name='1.2'></a>\n",
    "[<font color='black' face='微软雅黑'>回到章首</font>](#1)\n",
    "\n",
    "f-string 的核心范式就是在句中加：**`{element : format}`**\n",
    "\n",
    "其中 **`element`** 可以是\n",
    "\n",
    "- 元素型的整数、浮点数\n",
    "- 容器型的字典、列表\n",
    "- 类\n",
    "- 日期\n",
    "\n",
    "其中 **`format`** 包含\n",
    "\n",
    "- 加分隔符\n",
    "- 做计算\n",
    "- 保留小数点\n",
    "- 各种日期显示"
   ]
  },
  {
   "cell_type": "markdown",
   "metadata": {},
   "source": [
    "### 字典型数据"
   ]
  },
  {
   "cell_type": "code",
   "execution_count": 9,
   "metadata": {},
   "outputs": [
    {
     "data": {
      "text/plain": [
       "{'Mcap': 553789, 'curr': 'USD'}"
      ]
     },
     "execution_count": 9,
     "metadata": {},
     "output_type": "execute_result"
    }
   ],
   "source": [
    "info = dict(Mcap=Mcap, curr=curr)\n",
    "info"
   ]
  },
  {
   "cell_type": "code",
   "execution_count": 10,
   "metadata": {},
   "outputs": [
    {
     "ename": "SyntaxError",
     "evalue": "invalid syntax (<ipython-input-10-1b50e8c7dcf6>, line 1)",
     "output_type": "error",
     "traceback": [
      "\u001b[1;36m  File \u001b[1;32m\"<ipython-input-10-1b50e8c7dcf6>\"\u001b[1;36m, line \u001b[1;32m1\u001b[0m\n\u001b[1;33m    f'The market cap of Alibaba is {info['Mcap']} mio {info['curr']}.'\u001b[0m\n\u001b[1;37m                                             ^\u001b[0m\n\u001b[1;31mSyntaxError\u001b[0m\u001b[1;31m:\u001b[0m invalid syntax\n"
     ]
    }
   ],
   "source": [
    "f'The market cap of Alibaba is {info['Mcap']} mio {info['curr']}.'"
   ]
  },
  {
   "cell_type": "code",
   "execution_count": 11,
   "metadata": {},
   "outputs": [
    {
     "data": {
      "text/plain": [
       "'The market cap of Alibaba is 553789 mio USD.'"
      ]
     },
     "execution_count": 11,
     "metadata": {},
     "output_type": "execute_result"
    }
   ],
   "source": [
    "f\"The market cap of Alibaba is {info['Mcap']} mio {info['curr']}.\""
   ]
  },
  {
   "cell_type": "markdown",
   "metadata": {},
   "source": [
    "### 列表型数据"
   ]
  },
  {
   "cell_type": "code",
   "execution_count": 12,
   "metadata": {},
   "outputs": [
    {
     "data": {
      "text/plain": [
       "[553789, 'USD']"
      ]
     },
     "execution_count": 12,
     "metadata": {},
     "output_type": "execute_result"
    }
   ],
   "source": [
    "info = [Mcap, curr]\n",
    "info"
   ]
  },
  {
   "cell_type": "code",
   "execution_count": 13,
   "metadata": {},
   "outputs": [
    {
     "data": {
      "text/plain": [
       "'The market cap of Alibaba is 553789 mio USD.'"
      ]
     },
     "execution_count": 13,
     "metadata": {},
     "output_type": "execute_result"
    }
   ],
   "source": [
    "f\"The market cap of Alibaba is {info[0]} mio {info[1]}.\""
   ]
  },
  {
   "cell_type": "markdown",
   "metadata": {},
   "source": [
    "### 类数据"
   ]
  },
  {
   "cell_type": "code",
   "execution_count": 14,
   "metadata": {},
   "outputs": [],
   "source": [
    "class Info():\n",
    "    def __init__(self, Mcap, curr):\n",
    "        self.Mcap = Mcap\n",
    "        self.curr = curr"
   ]
  },
  {
   "cell_type": "code",
   "execution_count": 17,
   "metadata": {},
   "outputs": [
    {
     "data": {
      "text/plain": [
       "<__main__.Info at 0x2b23ed570b8>"
      ]
     },
     "execution_count": 17,
     "metadata": {},
     "output_type": "execute_result"
    }
   ],
   "source": [
    "info = Info(Mcap, curr)\n",
    "info"
   ]
  },
  {
   "cell_type": "code",
   "execution_count": 18,
   "metadata": {},
   "outputs": [
    {
     "data": {
      "text/plain": [
       "'The market cap of Alibaba is 553789 mio USD.'"
      ]
     },
     "execution_count": 18,
     "metadata": {},
     "output_type": "execute_result"
    }
   ],
   "source": [
    "f\"The market cap of Alibaba is {info.Mcap} mio {info.curr}.\""
   ]
  },
  {
   "cell_type": "markdown",
   "metadata": {},
   "source": [
    "### 加分隔符 - 每三位数加逗号 ,"
   ]
  },
  {
   "cell_type": "code",
   "execution_count": 19,
   "metadata": {},
   "outputs": [
    {
     "data": {
      "text/plain": [
       "{'Mcap': 553789, 'curr': 'USD'}"
      ]
     },
     "execution_count": 19,
     "metadata": {},
     "output_type": "execute_result"
    }
   ],
   "source": [
    "info = dict(Mcap=Mcap, curr=curr)\n",
    "info"
   ]
  },
  {
   "cell_type": "code",
   "execution_count": 20,
   "metadata": {},
   "outputs": [
    {
     "data": {
      "text/plain": [
       "'The market cap of Alibaba is 553,789 mio USD.'"
      ]
     },
     "execution_count": 20,
     "metadata": {},
     "output_type": "execute_result"
    }
   ],
   "source": [
    "f\"The market cap of Alibaba is {info['Mcap']:,} mio {info['curr']}.\""
   ]
  },
  {
   "cell_type": "markdown",
   "metadata": {},
   "source": [
    "### 计算 - 换算单位，保留小数点位数"
   ]
  },
  {
   "cell_type": "code",
   "execution_count": 21,
   "metadata": {},
   "outputs": [
    {
     "data": {
      "text/plain": [
       "{'Mcap': 553789, 'curr': 'USD', 'unit': 'bio'}"
      ]
     },
     "execution_count": 21,
     "metadata": {},
     "output_type": "execute_result"
    }
   ],
   "source": [
    "info = dict(Mcap=Mcap, curr=curr, unit='bio')\n",
    "info"
   ]
  },
  {
   "cell_type": "code",
   "execution_count": 22,
   "metadata": {},
   "outputs": [
    {
     "data": {
      "text/plain": [
       "'The market cap of Alibaba is 553.789 bio USD.'"
      ]
     },
     "execution_count": 22,
     "metadata": {},
     "output_type": "execute_result"
    }
   ],
   "source": [
    "f\"The market cap of Alibaba is {info['Mcap']/1000:,} {info['unit']} {info['curr']}.\""
   ]
  },
  {
   "cell_type": "code",
   "execution_count": null,
   "metadata": {},
   "outputs": [],
   "source": [
    "f\"The market cap of Alibaba is {info['Mcap']/1000:,.0f} {info['unit']} {info['curr']}.\""
   ]
  },
  {
   "cell_type": "markdown",
   "metadata": {},
   "source": [
    "### 处理日期"
   ]
  },
  {
   "cell_type": "code",
   "execution_count": 23,
   "metadata": {},
   "outputs": [
    {
     "data": {
      "text/plain": [
       "{'date': datetime.datetime(2020, 3, 4, 0, 0),\n",
       " 'Mcap': 553789,\n",
       " 'curr': 'USD',\n",
       " 'unit': 'bio'}"
      ]
     },
     "execution_count": 23,
     "metadata": {},
     "output_type": "execute_result"
    }
   ],
   "source": [
    "info = dict(date=datetime(2020,3,4), Mcap=Mcap, curr=curr, unit='bio')\n",
    "info"
   ]
  },
  {
   "cell_type": "code",
   "execution_count": 29,
   "metadata": {},
   "outputs": [
    {
     "data": {
      "text/plain": [
       "'On 2020-03-04 00:00:00, the market cap of Alibaba is 554 bio USD.'"
      ]
     },
     "execution_count": 29,
     "metadata": {},
     "output_type": "execute_result"
    }
   ],
   "source": [
    "f\"On {info['date']}, the market cap of Alibaba is \\\n",
    "{info['Mcap']/1000:,.0f} {info['unit']} {info['curr']}.\""
   ]
  },
  {
   "cell_type": "markdown",
   "metadata": {},
   "source": [
    "调整日期格式可参考 https://strftime.org/\n",
    "\n",
    "    %Y - 年的全称 (如 2020)\n",
    "    %b - 月份的简称 (如 Mar)\n",
    "    %d - 天数 (如果是个位数用零填充，如 03)\n",
    "    %a - 日期的简称 (Wed)"
   ]
  },
  {
   "cell_type": "code",
   "execution_count": 28,
   "metadata": {},
   "outputs": [
    {
     "data": {
      "text/plain": [
       "'On Mar 04, 2020 (Wed), the market cap of Alibaba is 554 bio USD.'"
      ]
     },
     "execution_count": 28,
     "metadata": {},
     "output_type": "execute_result"
    }
   ],
   "source": [
    "f\"On {info['date']:%b %d, %Y (%a)}, the market cap of Alibaba is \\\n",
    "{info['Mcap']/1000:,.0f} {info['unit']} {info['curr']}.\""
   ]
  },
  {
   "cell_type": "markdown",
   "metadata": {},
   "source": [
    "# <font color='#dc2624' face='微软雅黑'>2. 元字符</font><a name='2'></a>\n",
    "[<font color='black' face='微软雅黑'>回到目录</font>](#toc)\n",
    "### <font color='#2b4750' face='微软雅黑'>2.1 原始字符串</font><a name='2.1'></a>\n",
    "[<font color='black' face='微软雅黑'>回到章首</font>](#2)\n",
    "\n",
    "原始字符串（raw string）是所有的字符串都是直接按照字面的意思来使用，没有转义特殊或不能打印的字符，通常简称为 r-string，使用时候在普通字符串前加一个 `r` 即可。\n",
    "\n",
    "如果没有转义字符，原始字符串和普通字符串是一样的，比如"
   ]
  },
  {
   "cell_type": "code",
   "execution_count": 30,
   "metadata": {},
   "outputs": [
    {
     "name": "stdout",
     "output_type": "stream",
     "text": [
      "hello\n",
      "hello\n"
     ]
    }
   ],
   "source": [
    "print('hello')\n",
    "print(r'hello')"
   ]
  },
  {
   "cell_type": "markdown",
   "metadata": {},
   "source": [
    "如果有转义字符，原始字符串和普通字符串是不一样的，比如"
   ]
  },
  {
   "cell_type": "code",
   "execution_count": 31,
   "metadata": {},
   "outputs": [
    {
     "name": "stdout",
     "output_type": "stream",
     "text": [
      "\blake\n",
      "\\blake\n"
     ]
    }
   ],
   "source": [
    "print('\\blake')\n",
    "print(r'\\blake')"
   ]
  },
  {
   "cell_type": "markdown",
   "metadata": {},
   "source": [
    "元字符 (meta symbol) 就是一种自带特殊含义的字符，也叫特殊字符。比如 `[] * + ? {} | () . ^ $ \\`，原字符按用途可分五类：\n",
    "\n",
    "- 集合： `[]`\n",
    "- 次数： `* + ? {}`\n",
    "- 并列： `|`\n",
    "- 提取： `()`\n",
    "- 转义： `. ^ $ \\`\n",
    "\n",
    "首先定义一个函数，当在句子（是个字符串 str）没有发现模式 pat 时，返回“没有找到”，反之打印出所有符合模式的子字符串。"
   ]
  },
  {
   "cell_type": "code",
   "execution_count": 34,
   "metadata": {},
   "outputs": [],
   "source": [
    "import re\n",
    "\n",
    "def look_for(pat, str):\n",
    "    return '没有找到' if re.search(pat, str) is None else re.findall(pat, str)"
   ]
  },
  {
   "cell_type": "markdown",
   "metadata": {},
   "source": [
    "### <font color='#2b4750' face='微软雅黑'>2.2 集合字符</font><a name='2.2'></a>\n",
    "[<font color='black' face='微软雅黑'>回到章首</font>](#2)\n",
    "\n",
    "### <font color='blue'>中括号，方括号（square bracket）`[]:`</font>\n",
    "匹配中括号里指定字符集中的一个字符\n",
    "\n",
    "**明确字符**"
   ]
  },
  {
   "cell_type": "code",
   "execution_count": 5,
   "metadata": {},
   "outputs": [],
   "source": [
    "pat = r'[abc]'"
   ]
  },
  {
   "cell_type": "code",
   "execution_count": 6,
   "metadata": {},
   "outputs": [
    {
     "name": "stdout",
     "output_type": "stream",
     "text": [
      "['a']\n",
      "['a', 'c']\n",
      "['c', 'b', 'a']\n",
      "没有找到\n"
     ]
    }
   ],
   "source": [
    "print( look_for(pat, 'a') )\n",
    "print( look_for(pat, 'ac') )\n",
    "print( look_for(pat, 'cba') )\n",
    "print( look_for(pat, 'steven') )"
   ]
  },
  {
   "cell_type": "markdown",
   "metadata": {},
   "source": [
    "**范围字符**\n",
    "\n",
    "使用 `[-]` 即可\n",
    "\n",
    " - `[a-e]` 就是 `[abcde]`\n",
    " - `[1-4]` 就是 `[1234]`\n",
    " - `[a-ep]` 就是 `[abcdep]`\n",
    " - `[0-38]` 就是 `[01238]`"
   ]
  },
  {
   "cell_type": "code",
   "execution_count": 7,
   "metadata": {},
   "outputs": [
    {
     "name": "stdout",
     "output_type": "stream",
     "text": [
      "['p', 'e']\n",
      "没有找到\n"
     ]
    }
   ],
   "source": [
    "print( look_for(r'[a-ep]', 'person') )\n",
    "print( look_for(r'[0-38]', '666') )"
   ]
  },
  {
   "cell_type": "markdown",
   "metadata": {},
   "source": [
    "**补集字符**\n",
    "\n",
    "使用 `[^]` 即可\n",
    "\n",
    " - `[^abc]` 就是非 a, b, c 的字符\n",
    " - `[^123]` 就是非 1, 2, 3 的字符 "
   ]
  },
  {
   "cell_type": "code",
   "execution_count": 8,
   "metadata": {},
   "outputs": [
    {
     "name": "stdout",
     "output_type": "stream",
     "text": [
      "没有找到\n",
      "['s', 't', 'e', 'v', 'e', 'n']\n",
      "['4', '5', '6']\n",
      "['+', '=']\n"
     ]
    }
   ],
   "source": [
    "print( look_for(r'[^abc]', 'baba') )\n",
    "print( look_for(r'[^abc]', 'steven') )\n",
    "print( look_for(r'[^123]', '456') )\n",
    "print( look_for(r'[^123]', '1+2=3') )"
   ]
  },
  {
   "cell_type": "markdown",
   "metadata": {},
   "source": [
    "### <font color='#2b4750' face='微软雅黑'>2.3 次数字符</font><a name='2.3'></a>\n",
    "[<font color='black' face='微软雅黑'>回到章首</font>](#2)\n",
    "\n",
    "### <font color='blue'>星号（asterisk）`*`</font>\n",
    "检查 `*` 左边的字符串是否出现零次或多次"
   ]
  },
  {
   "cell_type": "code",
   "execution_count": 9,
   "metadata": {},
   "outputs": [],
   "source": [
    "pat = r'colou*r'"
   ]
  },
  {
   "cell_type": "code",
   "execution_count": 10,
   "metadata": {},
   "outputs": [
    {
     "name": "stdout",
     "output_type": "stream",
     "text": [
      "['color']\n",
      "['colour']\n",
      "['colouuuuuur']\n"
     ]
    }
   ],
   "source": [
    "print( look_for(pat, 'color') )\n",
    "print( look_for(pat, 'colour') )\n",
    "print( look_for(pat, 'colouuuuuur') )"
   ]
  },
  {
   "cell_type": "markdown",
   "metadata": {},
   "source": [
    "### <font color='blue'>加号（plus sign）`+`</font>\n",
    "检查 `+` 左边的字符串是否出现一次或多次"
   ]
  },
  {
   "cell_type": "code",
   "execution_count": 11,
   "metadata": {},
   "outputs": [],
   "source": [
    "pat = r'colou+r'"
   ]
  },
  {
   "cell_type": "code",
   "execution_count": 12,
   "metadata": {},
   "outputs": [
    {
     "name": "stdout",
     "output_type": "stream",
     "text": [
      "没有找到\n",
      "['colour']\n",
      "['colouuuuuur']\n"
     ]
    }
   ],
   "source": [
    "print( look_for(pat, 'color') )\n",
    "print( look_for(pat, 'colour') )\n",
    "print( look_for(pat, 'colouuuuuur') )"
   ]
  },
  {
   "cell_type": "code",
   "execution_count": 13,
   "metadata": {},
   "outputs": [],
   "source": [
    "pat = r'([a-zA-Z]+(?:ed|ing))'"
   ]
  },
  {
   "cell_type": "code",
   "execution_count": 14,
   "metadata": {},
   "outputs": [
    {
     "name": "stdout",
     "output_type": "stream",
     "text": [
      "['going']\n",
      "['waited']\n",
      "['waiting']\n"
     ]
    }
   ],
   "source": [
    "print( look_for(pat, 'going') )\n",
    "print( look_for(pat, 'waited') )\n",
    "print( look_for(pat, 'waiting') )"
   ]
  },
  {
   "cell_type": "markdown",
   "metadata": {},
   "source": [
    "### <font color='blue'>问号（question mark）`?`</font>\n",
    "检查 `?` 左边的字符串是否出现零次或一次"
   ]
  },
  {
   "cell_type": "code",
   "execution_count": 15,
   "metadata": {},
   "outputs": [],
   "source": [
    "pat = r'colou?r'"
   ]
  },
  {
   "cell_type": "code",
   "execution_count": 16,
   "metadata": {},
   "outputs": [
    {
     "name": "stdout",
     "output_type": "stream",
     "text": [
      "['color']\n",
      "['colour']\n",
      "没有找到\n"
     ]
    }
   ],
   "source": [
    "print( look_for(pat, 'color') )\n",
    "print( look_for(pat, 'colour') )\n",
    "print( look_for(pat, 'colouuuuuur') )"
   ]
  },
  {
   "cell_type": "markdown",
   "metadata": {},
   "source": [
    "贪婪模式 (greedy) 和非贪婪模式 (non-greedy)\n",
    "\n",
    "- 贪婪模式，即在整个表达式匹配成功的前提下，**尽可能多**的匹配。\n",
    "- 非贪婪模式，就是在整个表达式匹配成功的前提下，**尽可能少**的匹配。"
   ]
  },
  {
   "cell_type": "code",
   "execution_count": 17,
   "metadata": {},
   "outputs": [],
   "source": [
    "heading  = r'<h1>TITLE</h1>'"
   ]
  },
  {
   "cell_type": "code",
   "execution_count": 18,
   "metadata": {},
   "outputs": [
    {
     "name": "stdout",
     "output_type": "stream",
     "text": [
      "['<h1>TITLE</h1>']\n"
     ]
    }
   ],
   "source": [
    "pat = r'<.+>'\n",
    "print( look_for(pat, heading) )"
   ]
  },
  {
   "cell_type": "code",
   "execution_count": 19,
   "metadata": {},
   "outputs": [
    {
     "name": "stdout",
     "output_type": "stream",
     "text": [
      "['<h1>', '</h1>']\n"
     ]
    }
   ],
   "source": [
    "pat =  r'<.+?>'\n",
    "print( look_for(pat, heading) )"
   ]
  },
  {
   "cell_type": "markdown",
   "metadata": {},
   "source": [
    "### <font color='blue'>大括号，花括号（curly bracket）`{}`</font>\n",
    "- `{n}` 左边的字符串是否出现 n 次\n",
    "- `{n, }` 左边的字符串是否出现大于等于 n 次\n",
    "- `{, n}` 左边的字符串是否出现小于等于 n 次\n",
    "- `{n, m}` 左边的字符串是否出现在 n 次和 m 次之间"
   ]
  },
  {
   "cell_type": "code",
   "execution_count": 96,
   "metadata": {},
   "outputs": [],
   "source": [
    "s = 'a11bbb2222ccccc'"
   ]
  },
  {
   "cell_type": "code",
   "execution_count": 97,
   "metadata": {},
   "outputs": [
    {
     "name": "stdout",
     "output_type": "stream",
     "text": [
      "['a', 'b', 'b', 'b', 'c', 'c', 'c', 'c', 'c']\n",
      "['11', '2222']\n",
      "['a', '', '', 'bbb', '', '', '', '', 'ccccc', '']\n",
      "['11', '2222']\n"
     ]
    }
   ],
   "source": [
    "print( look_for(r'[a-z]{1}', s) )\n",
    "print( look_for(r'[0-9]{2,}', s) )\n",
    "print( look_for(r'[a-z]{,5}', s) )\n",
    "print( look_for(r'[0-9]{2,4}', s) )"
   ]
  },
  {
   "cell_type": "markdown",
   "metadata": {},
   "source": [
    "### <font color='#2b4750' face='微软雅黑'>2.4 并列字符</font><a name='2.4'></a>\n",
    "[<font color='black' face='微软雅黑'>回到章首</font>](#2)\n",
    "\n",
    "### <font color='blue'>垂线（vertical line）`|`</font>\n",
    "匹配用 `|` 分隔的任何一个字符串"
   ]
  },
  {
   "cell_type": "code",
   "execution_count": 22,
   "metadata": {},
   "outputs": [],
   "source": [
    "pat = r'like|love'"
   ]
  },
  {
   "cell_type": "code",
   "execution_count": 23,
   "metadata": {},
   "outputs": [
    {
     "name": "stdout",
     "output_type": "stream",
     "text": [
      "['like']\n",
      "['love']\n"
     ]
    }
   ],
   "source": [
    "print( look_for(pat, 'like you') )\n",
    "print( look_for(pat, 'love you') )"
   ]
  },
  {
   "cell_type": "markdown",
   "metadata": {},
   "source": [
    "### <font color='#2b4750' face='微软雅黑'>2.5 提取字符</font><a name='2.5'></a>\n",
    "[<font color='black' face='微软雅黑'>回到章首</font>](#2)\n",
    "\n",
    "### <font color='blue'>小括号，圆括号（round bracket）`()`</font>\n",
    "创建子模式，或便于匹配后提取"
   ]
  },
  {
   "cell_type": "code",
   "execution_count": 24,
   "metadata": {},
   "outputs": [],
   "source": [
    "pat = r'beat(s|ed|en|ing)'"
   ]
  },
  {
   "cell_type": "code",
   "execution_count": 25,
   "metadata": {},
   "outputs": [
    {
     "name": "stdout",
     "output_type": "stream",
     "text": [
      "['s']\n",
      "['ed']\n",
      "['en']\n",
      "['ing']\n"
     ]
    }
   ],
   "source": [
    "print( look_for(pat, 'beats') )\n",
    "print( look_for(pat, 'beated') )\n",
    "print( look_for(pat, 'beaten') )\n",
    "print( look_for(pat, 'beating') )"
   ]
  },
  {
   "cell_type": "code",
   "execution_count": 26,
   "metadata": {},
   "outputs": [],
   "source": [
    "pat = r'(beat(s|ed|en|ing))'"
   ]
  },
  {
   "cell_type": "code",
   "execution_count": 27,
   "metadata": {},
   "outputs": [
    {
     "name": "stdout",
     "output_type": "stream",
     "text": [
      "[('beats', 's')]\n",
      "[('beated', 'ed')]\n",
      "[('beaten', 'en')]\n",
      "[('beating', 'ing')]\n"
     ]
    }
   ],
   "source": [
    "print( look_for(pat, 'beats') )\n",
    "print( look_for(pat, 'beated') )\n",
    "print( look_for(pat, 'beaten') )\n",
    "print( look_for(pat, 'beating') )"
   ]
  },
  {
   "cell_type": "code",
   "execution_count": 28,
   "metadata": {},
   "outputs": [],
   "source": [
    "pat = r'(beat(?:s|ed|en|ing))'"
   ]
  },
  {
   "cell_type": "code",
   "execution_count": 29,
   "metadata": {},
   "outputs": [
    {
     "name": "stdout",
     "output_type": "stream",
     "text": [
      "['beats']\n",
      "['beated']\n",
      "['beaten']\n",
      "['beating']\n"
     ]
    }
   ],
   "source": [
    "print( look_for(pat, 'beats') )\n",
    "print( look_for(pat, 'beated') )\n",
    "print( look_for(pat, 'beaten') )\n",
    "print( look_for(pat, 'beating') )"
   ]
  },
  {
   "cell_type": "markdown",
   "metadata": {},
   "source": [
    "### <font color='#2b4750' face='微软雅黑'>2.6 转义字符</font><a name='2.6'></a>\n",
    "[<font color='black' face='微软雅黑'>回到章首</font>](#2)\n",
    "\n",
    "### <font color='blue'>点（dot）`.`</font>\n",
    "匹配任何除换行符 `\\n` 的字符，一个通配符"
   ]
  },
  {
   "cell_type": "code",
   "execution_count": 30,
   "metadata": {},
   "outputs": [],
   "source": [
    "pat = r'.+'"
   ]
  },
  {
   "cell_type": "code",
   "execution_count": 31,
   "metadata": {},
   "outputs": [
    {
     "name": "stdout",
     "output_type": "stream",
     "text": [
      "['a']\n",
      "['b1']\n",
      "['C@9']\n",
      "['$ 9_fZ']\n",
      "['9z_\\t\\r']\n"
     ]
    }
   ],
   "source": [
    "print( look_for(pat, 'a') )\n",
    "print( look_for(pat, 'b1') )\n",
    "print( look_for(pat, 'C@9') )\n",
    "print( look_for(pat, '$ 9_fZ') )\n",
    "print( look_for(pat, '9z_\\t\\r\\n') )"
   ]
  },
  {
   "cell_type": "markdown",
   "metadata": {},
   "source": [
    "### <font color='blue'>托字符（Carat）`^`</font>\n",
    "\n",
    "- 匹配文本行的开头字符\n",
    "- 和 `[]` 一起用表示补集"
   ]
  },
  {
   "cell_type": "code",
   "execution_count": 32,
   "metadata": {},
   "outputs": [],
   "source": [
    "pat = r'^s[\\w]*'"
   ]
  },
  {
   "cell_type": "code",
   "execution_count": 33,
   "metadata": {},
   "outputs": [
    {
     "name": "stdout",
     "output_type": "stream",
     "text": [
      "['son']\n",
      "['shot']\n",
      "没有找到\n"
     ]
    }
   ],
   "source": [
    "print( look_for(pat, 'son') )\n",
    "print( look_for(pat, 'shot') )\n",
    "print( look_for(pat, 'come') )"
   ]
  },
  {
   "cell_type": "markdown",
   "metadata": {},
   "source": [
    "### <font color='blue'>美元符（Dollar Sign）`$`</font>\n",
    "匹配文本行的结尾字符"
   ]
  },
  {
   "cell_type": "code",
   "execution_count": 34,
   "metadata": {},
   "outputs": [],
   "source": [
    "pat = r'[\\w]*s$'"
   ]
  },
  {
   "cell_type": "code",
   "execution_count": 35,
   "metadata": {},
   "outputs": [
    {
     "name": "stdout",
     "output_type": "stream",
     "text": [
      "['yes']\n",
      "['mess']\n",
      "没有找到\n"
     ]
    }
   ],
   "source": [
    "print( look_for(pat, 'yes') )\n",
    "print( look_for(pat, 'mess') )\n",
    "print( look_for(pat, 'come') )"
   ]
  },
  {
   "cell_type": "markdown",
   "metadata": {},
   "source": [
    "### <font color='blue'>反斜杠（Backslash）`\\`</font>\n",
    "\n",
    "- 将特殊字符转成自身含义：用 `\\` 作用在 `^ . \\` 等身上，代表次方 `\\^`、小数点 `\\.` 和除号 `\\\\`  \n",
    "- 将自身字符转成特殊含义：用 `\\` 作用在 `w d n` 等身上，代表字母 `\\w`、数字 `\\d` 和新行 `\\n` \n",
    "\n",
    "**特殊 --> 自身**"
   ]
  },
  {
   "cell_type": "code",
   "execution_count": 36,
   "metadata": {},
   "outputs": [],
   "source": [
    "pat = r'\\$[0-9.]+'"
   ]
  },
  {
   "cell_type": "code",
   "execution_count": 37,
   "metadata": {},
   "outputs": [
    {
     "name": "stdout",
     "output_type": "stream",
     "text": [
      "['$99.99']\n"
     ]
    }
   ],
   "source": [
    "print( look_for(pat, 'it costs $99.99') )"
   ]
  },
  {
   "cell_type": "code",
   "execution_count": 38,
   "metadata": {},
   "outputs": [],
   "source": [
    "pat = r'(\\\\|\\/|\\^|\\.)'"
   ]
  },
  {
   "cell_type": "code",
   "execution_count": 39,
   "metadata": {},
   "outputs": [
    {
     "name": "stdout",
     "output_type": "stream",
     "text": [
      "['/', '^', '.']\n"
     ]
    }
   ],
   "source": [
    "print( look_for(pat, '(5/2)^2=6.25') )"
   ]
  },
  {
   "cell_type": "code",
   "execution_count": 40,
   "metadata": {},
   "outputs": [],
   "source": [
    "pat = r'(\\|/|^|.)'"
   ]
  },
  {
   "cell_type": "code",
   "execution_count": 41,
   "metadata": {},
   "outputs": [
    {
     "name": "stdout",
     "output_type": "stream",
     "text": [
      "['', '(', '5', '/', '2', ')', '^', '2', '=', '6', '.', '2', '5']\n"
     ]
    }
   ],
   "source": [
    "print( look_for(pat, '(5/2)^2=6.25') )"
   ]
  },
  {
   "cell_type": "code",
   "execution_count": 42,
   "metadata": {},
   "outputs": [],
   "source": [
    "pat = r'[/^\\.]'"
   ]
  },
  {
   "cell_type": "code",
   "execution_count": 43,
   "metadata": {},
   "outputs": [
    {
     "name": "stdout",
     "output_type": "stream",
     "text": [
      "['/', '^', '.']\n"
     ]
    }
   ],
   "source": [
    "print( look_for(pat, '(5/2)^2=6.25') )"
   ]
  },
  {
   "cell_type": "markdown",
   "metadata": {},
   "source": [
    "**自身 --> 特殊**\n",
    "\n",
    "- `\\b`：匹配空字符串，但仅适用于单词的“**首尾**”\n",
    "- `\\B`：匹配空字符串，但仅适用于单词的“**非首尾**”\n",
    "- `\\d`：匹配任何“**数字**”字符，等价于 `[0-9]`\n",
    "- `\\D`：匹配任何“**非数字**”字符，等价于 `[^0-9]`\n",
    "- `\\s`：匹配任何“**空白**”字符，等价于 `[ \\t\\n\\r]`\n",
    "- `\\S`：匹配任何“**非空白**”字符，等价于 `[^ \\t\\n\\r]`\n",
    "- `\\w`：匹配任何“**字母数字下划线**”字符，等价于 `[a-zA-Z0-9_]`\n",
    "- `\\W`：匹配任何“**非字母数字下划线**”字符，等价于 `[^a-zA-Z0-9_]`\n",
    "- `\\A`：匹配句子的“**开头**”字符，等价于 `^`\n",
    "- `\\Z`：匹配句子的“**结尾**”字符，等价于 `$`\n",
    "- `\\t`：匹配句子的“**制表键 (tab)**”字符\n",
    "- `\\r`：匹配句子的“**回车键 (return)**”字符\n",
    "- `\\n`：匹配句子的“**换行键 (newline)**”字符"
   ]
  },
  {
   "cell_type": "markdown",
   "metadata": {},
   "source": [
    "### `\\b`: 匹配空字符串，但仅适用于单词的“首尾”\n",
    "### `\\B`：匹配空字符串，但仅适用于单词的“非首尾”"
   ]
  },
  {
   "cell_type": "code",
   "execution_count": 44,
   "metadata": {},
   "outputs": [
    {
     "name": "stdout",
     "output_type": "stream",
     "text": [
      "['learn']\n",
      "没有找到\n",
      "没有找到\n",
      "没有找到\n"
     ]
    }
   ],
   "source": [
    "pat = r'\\blearn\\b'\n",
    "\n",
    "print( look_for(pat, 'learn Python') )\n",
    "print( look_for(pat, 'relearn Python') )\n",
    "print( look_for(pat, 'learning Python') )\n",
    "print( look_for(pat, 'relearning Python') )"
   ]
  },
  {
   "cell_type": "code",
   "execution_count": 45,
   "metadata": {},
   "outputs": [
    {
     "name": "stdout",
     "output_type": "stream",
     "text": [
      "没有找到\n",
      "没有找到\n",
      "没有找到\n",
      "['learn']\n"
     ]
    }
   ],
   "source": [
    "pat = r'\\Blearn\\B'\n",
    "\n",
    "print( look_for(pat, 'learn Python') )\n",
    "print( look_for(pat, 'relearn Python') )\n",
    "print( look_for(pat, 'learning Python') )\n",
    "print( look_for(pat, 'relearning Python') )"
   ]
  },
  {
   "cell_type": "code",
   "execution_count": 46,
   "metadata": {},
   "outputs": [
    {
     "name": "stdout",
     "output_type": "stream",
     "text": [
      "没有找到\n",
      "没有找到\n",
      "['learn']\n",
      "没有找到\n"
     ]
    }
   ],
   "source": [
    "pat = r'\\blearn\\B'\n",
    "\n",
    "print( look_for(pat, 'learn Python') )\n",
    "print( look_for(pat, 'relearn Python') )\n",
    "print( look_for(pat, 'learning Python') )\n",
    "print( look_for(pat, 'relearning Python') )"
   ]
  },
  {
   "cell_type": "code",
   "execution_count": 47,
   "metadata": {},
   "outputs": [
    {
     "name": "stdout",
     "output_type": "stream",
     "text": [
      "没有找到\n",
      "['learn']\n",
      "没有找到\n",
      "没有找到\n"
     ]
    }
   ],
   "source": [
    "pat = r'\\Blearn\\b'\n",
    "\n",
    "print( look_for(pat, 'learn Python') )\n",
    "print( look_for(pat, 'relearn Python') )\n",
    "print( look_for(pat, 'learning Python') )\n",
    "print( look_for(pat, 'relearning Python') )"
   ]
  },
  {
   "cell_type": "markdown",
   "metadata": {},
   "source": [
    "### `\\d`：匹配任何“数字”字符，等价于 `[0-9]`\n",
    "### `\\D`：匹配任何“非数字”字符，等价于 `[^0-9]`"
   ]
  },
  {
   "cell_type": "code",
   "execution_count": 48,
   "metadata": {},
   "outputs": [
    {
     "name": "stdout",
     "output_type": "stream",
     "text": [
      "['12', '34', '56', '78', '90']\n"
     ]
    }
   ],
   "source": [
    "pat = r'\\d+'\n",
    "\n",
    "print( look_for(pat, '12+ab34-cd56*ef78/gh90%ij') )"
   ]
  },
  {
   "cell_type": "code",
   "execution_count": 49,
   "metadata": {},
   "outputs": [
    {
     "name": "stdout",
     "output_type": "stream",
     "text": [
      "['+ab', '-cd', '*ef', '/gh', '%ij']\n"
     ]
    }
   ],
   "source": [
    "pat = r'\\D+'\n",
    "\n",
    "print( look_for(pat, '12+ab34-cd56*ef78/gh90%ij') )"
   ]
  },
  {
   "cell_type": "markdown",
   "metadata": {},
   "source": [
    "### `\\s`：匹配任何“空白”字符，等价于 `[ \\t\\n\\r]`\n",
    "### `\\S`：匹配任何“非空白”字符，等价于 `[^ \\t\\n\\r]`"
   ]
  },
  {
   "cell_type": "code",
   "execution_count": 50,
   "metadata": {},
   "outputs": [
    {
     "name": "stdout",
     "output_type": "stream",
     "text": [
      "['  ', '\\n', '  ', '\\n    ']\n"
     ]
    }
   ],
   "source": [
    "pat = r'\\s+'\n",
    "s = '''please  don't\n",
    "leave  me\n",
    "    alone'''\n",
    "print( look_for(pat, s) )"
   ]
  },
  {
   "cell_type": "code",
   "execution_count": 51,
   "metadata": {},
   "outputs": [
    {
     "name": "stdout",
     "output_type": "stream",
     "text": [
      "['please', \"don't\", 'leave', 'me', 'alone']\n"
     ]
    }
   ],
   "source": [
    "pat = r'\\S+'\n",
    "print( look_for(pat, s) )"
   ]
  },
  {
   "cell_type": "markdown",
   "metadata": {},
   "source": [
    "### `\\w`：匹配任何“字母数字下划线”字符，等价于 `[a-zA-Z0-9_]`\n",
    "### `\\W`：匹配任何“非字母数字下划线”字符，等价于 `[^a-zA-Z0-9_]`"
   ]
  },
  {
   "cell_type": "code",
   "execution_count": 52,
   "metadata": {},
   "outputs": [
    {
     "name": "stdout",
     "output_type": "stream",
     "text": [
      "['12', 'ab_34', 'cd56_ef78']\n"
     ]
    }
   ],
   "source": [
    "pat = r'\\w+'\n",
    "\n",
    "print( look_for(pat, '12+ab_34-cd56_ef78') )"
   ]
  },
  {
   "cell_type": "code",
   "execution_count": 53,
   "metadata": {},
   "outputs": [
    {
     "name": "stdout",
     "output_type": "stream",
     "text": [
      "['+', '-']\n"
     ]
    }
   ],
   "source": [
    "pat = r'\\W+'\n",
    "\n",
    "print( look_for(pat, '12+ab_34-cd56_ef78') )"
   ]
  },
  {
   "cell_type": "markdown",
   "metadata": {},
   "source": [
    "### `\\A`：匹配句子的“开头”字符，等价于 `^`\n",
    "### `\\Z`：匹配句子的“结尾”字符，等价于 `$`"
   ]
  },
  {
   "cell_type": "code",
   "execution_count": 54,
   "metadata": {},
   "outputs": [
    {
     "name": "stdout",
     "output_type": "stream",
     "text": [
      "['you']\n",
      "['you']\n",
      "没有找到\n",
      "没有找到\n"
     ]
    }
   ],
   "source": [
    "pat1 = r'^y[\\w]*'\n",
    "pat2 = r'\\Ay[\\w]*'\n",
    "str1 = 'you rock'\n",
    "str2 = 'rock you'\n",
    "\n",
    "print( look_for(pat1, str1) )\n",
    "print( look_for(pat2, str1) )\n",
    "\n",
    "print( look_for(pat1, str2) )\n",
    "print( look_for(pat2, str2) )"
   ]
  },
  {
   "cell_type": "code",
   "execution_count": 55,
   "metadata": {},
   "outputs": [
    {
     "name": "stdout",
     "output_type": "stream",
     "text": [
      "['rock']\n",
      "['rock']\n",
      "没有找到\n",
      "没有找到\n"
     ]
    }
   ],
   "source": [
    "pat1 = r'[\\w]*k$'\n",
    "pat2 = r'[\\w]*k\\Z'\n",
    "str1 = 'you rock'\n",
    "str2 = 'rock you'\n",
    "\n",
    "print( look_for(pat1, str1) )\n",
    "print( look_for(pat2, str1) )\n",
    "\n",
    "print( look_for(pat1, str2) )\n",
    "print( look_for(pat2, str2) )"
   ]
  },
  {
   "cell_type": "markdown",
   "metadata": {},
   "source": [
    "# <font color='#dc2624' face='微软雅黑'>3. RE 函数</font><a name='3'></a>\n",
    "[<font color='black' face='微软雅黑'>回到目录</font>](#toc)\n",
    "\n",
    "- `match(pat, str)`：检查**字符串的开头**是否符合某个模式\n",
    "- `search(pat, str)`：检查**字符串中**是否符合某个模式\n",
    "- `findall(pat, str)`：返回所有符合某个模式的字符串，以列表形式输出\n",
    "- `finditer(pat, str)`：返回所有符合某个模式的字符串，以迭代器形式输出\n",
    "- `split(pat, str)`：以某个模式为分割点，拆分整个句子为一系列字符串，以列表形式输出\n",
    "- `sub(pat, repl, str)`：句子 str 中找到匹配正则表达式模式的所有子字符串，用另一个字符串 repl 进行替换\n",
    "- `compile(pat)`：将某个模式编译成对象，供之后使用"
   ]
  },
  {
   "cell_type": "markdown",
   "metadata": {},
   "source": [
    "### <font color='#2b4750' face='微软雅黑'>3.1 `match` 函数</font><a name='3.1'></a>\n",
    "[<font color='black' face='微软雅黑'>回到章首</font>](#3)\n",
    "\n",
    "判断模式是否在字符串开头位置匹配。如果匹配，返回对象，如果不匹配，返回 `None`."
   ]
  },
  {
   "cell_type": "code",
   "execution_count": 56,
   "metadata": {},
   "outputs": [
    {
     "name": "stdout",
     "output_type": "stream",
     "text": [
      "<re.Match object; span=(0, 4), match='Kobe'>\n",
      "Kobe\n",
      "None\n"
     ]
    }
   ],
   "source": [
    "s = 'Kobe Bryant'\n",
    "\n",
    "print( re.match(r'Kobe', s) )\n",
    "print( re.match(r'Kobe', s).group() )\n",
    "print( re.match(r'Bryant', s) )"
   ]
  },
  {
   "cell_type": "markdown",
   "metadata": {},
   "source": [
    "### <font color='#2b4750' face='微软雅黑'>3.2 `search` 函数</font><a name='3.2'></a>\n",
    "[<font color='black' face='微软雅黑'>回到章首</font>](#3)\n",
    "\n",
    "在字符串中查找匹配正则表达式模式的位置。如果匹配，返回对象，如果不匹配，返回 `None`."
   ]
  },
  {
   "cell_type": "code",
   "execution_count": 57,
   "metadata": {},
   "outputs": [
    {
     "name": "stdout",
     "output_type": "stream",
     "text": [
      "<re.Match object; span=(0, 4), match='Kobe'>\n",
      "Kobe\n",
      "<re.Match object; span=(5, 11), match='Bryant'>\n",
      "Bryant\n"
     ]
    }
   ],
   "source": [
    "s = 'Kobe Bryant'\n",
    "\n",
    "print( re.search(r'Kobe', s) )\n",
    "print( re.search(r'Kobe', s).group() )\n",
    "print( re.search(r'Bryant', s) )\n",
    "print( re.search(r'Bryant', s).group() )"
   ]
  },
  {
   "cell_type": "code",
   "execution_count": 58,
   "metadata": {},
   "outputs": [
    {
     "name": "stdout",
     "output_type": "stream",
     "text": [
      "<re.Match object; span=(5, 11), match='Bryant'>\n",
      "Bryant\n",
      "<re.Match object; span=(5, 11), match='Bryant'>\n"
     ]
    }
   ],
   "source": [
    "s = 'Kobe Bryant loves Gianna Bryant'\n",
    "\n",
    "print( re.search(r'Bryant', s) )\n",
    "print( re.search(r'Bryant', s).group() )\n",
    "print( re.search(r'Bryant', s) )"
   ]
  },
  {
   "cell_type": "markdown",
   "metadata": {},
   "source": [
    "### <font color='#2b4750' face='微软雅黑'>3.3 `findall` 函数</font><a name='3.3'></a>\n",
    "[<font color='black' face='微软雅黑'>回到章首</font>](#3)\n",
    "\n",
    "在字符串中找到正则表达式所匹配的所有子串，并组成一个列表返回。"
   ]
  },
  {
   "cell_type": "code",
   "execution_count": 59,
   "metadata": {},
   "outputs": [
    {
     "name": "stdout",
     "output_type": "stream",
     "text": [
      "['Kobe']\n",
      "['Bryant', 'Bryant']\n",
      "[]\n"
     ]
    }
   ],
   "source": [
    "s = 'Kobe Bryant loves Gianna Bryant'\n",
    "\n",
    "print( re.findall(r'Kobe', s) )\n",
    "print( re.findall(r'Bryant', s) )\n",
    "print( re.findall(r'Gigi', s) )"
   ]
  },
  {
   "cell_type": "markdown",
   "metadata": {},
   "source": [
    "### <font color='#2b4750' face='微软雅黑'>3.4 `finditer` 函数</font><a name='3.4'></a>\n",
    "[<font color='black' face='微软雅黑'>回到章首</font>](#3)\n",
    "\n",
    "和 `findall` 类似，在字符串中找到正则表达式所匹配的所有子串，并组成一个迭代器返回。"
   ]
  },
  {
   "cell_type": "code",
   "execution_count": 60,
   "metadata": {},
   "outputs": [
    {
     "name": "stdout",
     "output_type": "stream",
     "text": [
      "[<re.Match object; span=(0, 4), match='Kobe'>]\n",
      "[<re.Match object; span=(5, 11), match='Bryant'>, <re.Match object; span=(25, 31), match='Bryant'>]\n",
      "[]\n"
     ]
    }
   ],
   "source": [
    "s = 'Kobe Bryant loves Gianna Bryant'\n",
    "\n",
    "print( [i for i in re.finditer(r'Kobe', s)] )\n",
    "print( [i for i in re.finditer(r'Bryant', s)] )\n",
    "print( [i for i in re.finditer(r'Gigi', s)] )"
   ]
  },
  {
   "cell_type": "markdown",
   "metadata": {},
   "source": [
    "### <font color='#2b4750' face='微软雅黑'>3.5 `split` 函数</font><a name='3.5'></a>\n",
    "[<font color='black' face='微软雅黑'>回到章首</font>](#3)\n",
    "\n",
    "将字符串匹配正则表达式的部分割开并返回一个列表。"
   ]
  },
  {
   "cell_type": "code",
   "execution_count": 61,
   "metadata": {},
   "outputs": [
    {
     "name": "stdout",
     "output_type": "stream",
     "text": [
      "['Kobe', 'Bryant', 'loves', 'Gianna', 'Bryant']\n"
     ]
    }
   ],
   "source": [
    "s = 'Kobe Bryant loves Gianna Bryant'\n",
    "print( re.split(r'\\s', s) )"
   ]
  },
  {
   "cell_type": "markdown",
   "metadata": {},
   "source": [
    "### <font color='#2b4750' face='微软雅黑'>3.6 `sub` 函数</font><a name='3.6'></a>\n",
    "[<font color='black' face='微软雅黑'>回到章首</font>](#3)\n",
    "\n",
    "句子 str 中找到匹配正则表达式模式的所有子字符串，用另一个字符串 repl 进行替换。如果没有找到匹配模式的串，则返回未被修改的句子 str，其中 repl 既可以是字符串也可以是一个函数。"
   ]
  },
  {
   "cell_type": "code",
   "execution_count": 62,
   "metadata": {},
   "outputs": [
    {
     "name": "stdout",
     "output_type": "stream",
     "text": [
      "Kobe-Bryant-loves-Gianna-Bryant\n"
     ]
    }
   ],
   "source": [
    "s = 'Kobe Bryant loves Gianna Bryant'\n",
    "print( re.sub(r'\\s', '-', s) )"
   ]
  },
  {
   "cell_type": "code",
   "execution_count": 63,
   "metadata": {},
   "outputs": [
    {
     "name": "stdout",
     "output_type": "stream",
     "text": [
      "Kobe Bryant loves Gigi Bryant\n"
     ]
    }
   ],
   "source": [
    "print( re.sub(r'Gianna', 'Gigi', s) )"
   ]
  },
  {
   "cell_type": "code",
   "execution_count": 64,
   "metadata": {},
   "outputs": [
    {
     "name": "stdout",
     "output_type": "stream",
     "text": [
      "Kobe Bryant loves Gianna Bryant\n"
     ]
    }
   ],
   "source": [
    "print( re.sub(r'\\d+', '_', s) )"
   ]
  },
  {
   "cell_type": "code",
   "execution_count": 65,
   "metadata": {},
   "outputs": [
    {
     "name": "stdout",
     "output_type": "stream",
     "text": [
      "_K_o_b_e_ _B_r_y_a_n_t_ _l_o_v_e_s_ _G_i_a_n_n_a_ _B_r_y_a_n_t_\n"
     ]
    }
   ],
   "source": [
    "print( re.sub(r'\\d*', '_', s) )"
   ]
  },
  {
   "cell_type": "markdown",
   "metadata": {},
   "source": [
    "### <font color='#2b4750' face='微软雅黑'>3.7 `compile` 函数</font><a name='3.7'></a>\n",
    "[<font color='black' face='微软雅黑'>回到章首</font>](#3)\n",
    "\n",
    "把正则表达式的模式转化成正则表达式对象，供其他 6 个函数使用。"
   ]
  },
  {
   "cell_type": "code",
   "execution_count": 66,
   "metadata": {},
   "outputs": [
    {
     "name": "stdout",
     "output_type": "stream",
     "text": [
      "Shengyuan Personal: quantsteven@gmail.com\n",
      "Shengyuan Work: shengyuan@octagon-advisors.com\n",
      "Shengyuan School: g0700508@nus.edu.sg\n",
      "Obama: barack.obama@whitehouse.gov\n"
     ]
    }
   ],
   "source": [
    "email = '''Shengyuan Personal: quantsteven@gmail.com\n",
    "Shengyuan Work: shengyuan@octagon-advisors.com\n",
    "Shengyuan School: g0700508@nus.edu.sg\n",
    "Obama: barack.obama@whitehouse.gov'''\n",
    "print(email)"
   ]
  },
  {
   "cell_type": "code",
   "execution_count": 67,
   "metadata": {},
   "outputs": [
    {
     "data": {
      "text/plain": [
       "re.compile(r'[\\w.-]+@[\\w.-]+', re.UNICODE)"
      ]
     },
     "execution_count": 67,
     "metadata": {},
     "output_type": "execute_result"
    }
   ],
   "source": [
    "pat = r'[\\w.-]+@[\\w.-]+'\n",
    "obj = re.compile(pat)\n",
    "obj"
   ]
  },
  {
   "cell_type": "code",
   "execution_count": 68,
   "metadata": {},
   "outputs": [
    {
     "name": "stdout",
     "output_type": "stream",
     "text": [
      "None \n",
      "\n",
      "<re.Match object; span=(20, 41), match='quantsteven@gmail.com'> \n",
      "\n",
      "['quantsteven@gmail.com', 'shengyuan@octagon-advisors.com', 'g0700508@nus.edu.sg', 'barack.obama@whitehouse.gov'] \n",
      "\n",
      "[<re.Match object; span=(20, 41), match='quantsteven@gmail.com'>, <re.Match object; span=(58, 88), match='shengyuan@octagon-advisors.com'>, <re.Match object; span=(107, 126), match='g0700508@nus.edu.sg'>, <re.Match object; span=(134, 161), match='barack.obama@whitehouse.gov'>]\n"
     ]
    }
   ],
   "source": [
    "print( obj.match(email), '\\n')\n",
    "print( obj.search(email), '\\n' )\n",
    "print( obj.findall(email), '\\n' )\n",
    "print( [i for i in obj.finditer(email)])"
   ]
  },
  {
   "cell_type": "code",
   "execution_count": 69,
   "metadata": {},
   "outputs": [
    {
     "name": "stdout",
     "output_type": "stream",
     "text": [
      "Shengyuan Personal: ---@---.---\n",
      "Shengyuan Work: ---@---.---\n",
      "Shengyuan School: ---@---.---\n",
      "Obama: ---@---.--- \n",
      "\n"
     ]
    }
   ],
   "source": [
    "print( obj.sub('---@---.---', email), '\\n' )"
   ]
  },
  {
   "cell_type": "code",
   "execution_count": 70,
   "metadata": {},
   "outputs": [
    {
     "name": "stdout",
     "output_type": "stream",
     "text": [
      "['quantsteven', 'gmail.com']\n",
      "['shengyuan', 'octagon-advisors.com']\n",
      "['g0700508', 'nus.edu.sg']\n",
      "['barack.obama', 'whitehouse.gov']\n"
     ]
    }
   ],
   "source": [
    "for addr in obj.findall(email):\n",
    "    print( re.split(r'@', addr))"
   ]
  },
  {
   "cell_type": "code",
   "execution_count": 71,
   "metadata": {},
   "outputs": [
    {
     "name": "stdout",
     "output_type": "stream",
     "text": [
      "['quantsteven', 'gmail.com']\n",
      "['shengyuan', 'octagon-advisors.com']\n",
      "['g0700508', 'nus.edu.sg']\n",
      "['barack.obama', 'whitehouse.gov']\n"
     ]
    }
   ],
   "source": [
    "obj1 = re.compile(r'@')\n",
    "for addr in obj.findall(email):\n",
    "    print( obj1.split(addr))"
   ]
  },
  {
   "cell_type": "markdown",
   "metadata": {},
   "source": [
    "# <font color='#dc2624' face='微软雅黑'>4. 习题</font><a name='4'></a>\n",
    "[<font color='black' face='微软雅黑'>回到目录</font>](#toc)\n",
    "\n",
    "从下面一段话中，提取**姓名、买卖动作、股票数量、股票代码、买卖时间、股价**这 6 个关键信息。"
   ]
  },
  {
   "cell_type": "markdown",
   "metadata": {},
   "source": [
    "**信息摘选**"
   ]
  },
  {
   "cell_type": "code",
   "execution_count": 76,
   "metadata": {},
   "outputs": [],
   "source": [
    "news = \"\"\"\n",
    "Jack Black sold 15,000 shares in AMZN on 2019-03-06 at a price of $1044.00.\n",
    "David V.Love bought 811 shares in TLSA on 2020-01-19 at a price of $868.75.\n",
    "Steven exercised 262 shares in AAPL on 2020-02-04 at a price of $301.00.\n",
    "\"\"\""
   ]
  },
  {
   "cell_type": "code",
   "execution_count": null,
   "metadata": {},
   "outputs": [],
   "source": [
    "## 提示\n",
    "\n",
    "pat = r'设计姓名的模式' \\\n",
    "        '设计买卖动作的模式' \\\n",
    "        '设计股票数量的模式' \\\n",
    "        '设计股票代码的模式' \\\n",
    "        '设计买卖时间的模式' \\\n",
    "        '设计股价的模式'\n",
    "\n",
    "re.findall( pat, news )"
   ]
  },
  {
   "cell_type": "markdown",
   "metadata": {},
   "source": [
    "## 思考一下做不出来再看答案。"
   ]
  },
  {
   "cell_type": "code",
   "execution_count": null,
   "metadata": {},
   "outputs": [],
   "source": []
  },
  {
   "cell_type": "code",
   "execution_count": null,
   "metadata": {},
   "outputs": [],
   "source": []
  },
  {
   "cell_type": "code",
   "execution_count": null,
   "metadata": {},
   "outputs": [],
   "source": []
  },
  {
   "cell_type": "code",
   "execution_count": null,
   "metadata": {},
   "outputs": [],
   "source": []
  },
  {
   "cell_type": "code",
   "execution_count": null,
   "metadata": {},
   "outputs": [],
   "source": []
  },
  {
   "cell_type": "code",
   "execution_count": null,
   "metadata": {},
   "outputs": [],
   "source": []
  },
  {
   "cell_type": "code",
   "execution_count": null,
   "metadata": {},
   "outputs": [],
   "source": []
  },
  {
   "cell_type": "code",
   "execution_count": null,
   "metadata": {},
   "outputs": [],
   "source": []
  },
  {
   "cell_type": "code",
   "execution_count": 77,
   "metadata": {},
   "outputs": [
    {
     "data": {
      "text/plain": [
       "[('Jack Black', 'sold', '15,000', 'AMZN', '2019-03-06', '$1044.00'),\n",
       " ('David V.Love', 'bought', '811', 'TLSA', '2020-01-19', '$868.75'),\n",
       " ('Steven', 'exercised', '262', 'AAPL', '2020-02-04', '$301.00')]"
      ]
     },
     "execution_count": 77,
     "metadata": {},
     "output_type": "execute_result"
    }
   ],
   "source": [
    "pat = r'([a-zA-Z. ]*)' \\\n",
    "        '\\s(sold|bought|exercised)' \\\n",
    "        '\\s*([\\d,]+)' \\\n",
    "        '.*in\\s([A-Z]{,5})' \\\n",
    "        '.*(\\d{4}-\\d{2}-\\d{2})' \\\n",
    "        '.*price of\\s(\\$\\d*.\\d*)'\n",
    "\n",
    "re.findall( pat, news )"
   ]
  }
 ],
 "metadata": {
  "kernelspec": {
   "display_name": "Python 3",
   "language": "python",
   "name": "python3"
  },
  "language_info": {
   "codemirror_mode": {
    "name": "ipython",
    "version": 3
   },
   "file_extension": ".py",
   "mimetype": "text/x-python",
   "name": "python",
   "nbconvert_exporter": "python",
   "pygments_lexer": "ipython3",
   "version": "3.7.7"
  }
 },
 "nbformat": 4,
 "nbformat_minor": 4
}
