{
 "cells": [
  {
   "cell_type": "markdown",
   "metadata": {},
   "source": [
    "# <div style=\"text-align: center\"><font color='#dc2624' face='微软雅黑'>Python 基础系列</font></div>\n",
    "## <div style=\"text-align: center\"><font color='#dc2624' face='微软雅黑'>函数</font></div>\n",
    "\n",
    "## <font color='#dc2624' face='微软雅黑'>目录</font><a name='toc'></a>\n",
    "### 1. [**<font color='#dc2624' face='微软雅黑'>函数 101</font>**](#1)\n",
    "1. [<font color='#2b4750' face='微软雅黑'>函数特点</font>](#1.1)\n",
    "2. [<font color='#2b4750' face='微软雅黑'>简单例子</font>](#1.2)\n",
    "\n",
    "### 2. [**<font color='#dc2624' face='微软雅黑'>普通函数</font>**](#2)\n",
    "1. [<font color='#2b4750' face='微软雅黑'>位置参数</font>](#2.1)\n",
    "2. [<font color='#2b4750' face='微软雅黑'>默认参数</font>](#2.2)\n",
    "3. [<font color='#2b4750' face='微软雅黑'>可变参数</font>](#2.3)\n",
    "4. [<font color='#2b4750' face='微软雅黑'>关键字参数</font>](#2.4)\n",
    "5. [<font color='#2b4750' face='微软雅黑'>命名关键字参数</font>](#2.5)\n",
    "6. [<font color='#2b4750' face='微软雅黑'>参数组合</font>](#2.6)\n",
    "\n",
    "### 3. [**<font color='#dc2624' face='微软雅黑'>匿名函数</font>**](#3)\n",
    "1. [<font color='#2b4750' face='微软雅黑'>函数用法</font>](#3.1)\n",
    "2. [<font color='#2b4750' face='微软雅黑'>误用过用</font>](#3.2)\n",
    "\n",
    "### 4. [**<font color='#dc2624' face='微软雅黑'>高阶函数</font>**](#4)\n",
    "1. [<font color='#2b4750' face='微软雅黑'>函数为参数</font>](#4.1)\n",
    "2. [<font color='#2b4750' face='微软雅黑'>函数为返回</font>](#4.2)\n",
    "\n",
    "### 5. [**<font color='#dc2624' face='微软雅黑'>函数式编程</font>**](#5)\n",
    "---"
   ]
  },
  {
   "cell_type": "markdown",
   "metadata": {},
   "source": [
    "# <font color='#dc2624' face='微软雅黑'>1. 函数 101</font><a name='1'></a>\n",
    "[<font color='black' face='微软雅黑'>回到目录</font>](#toc)\n",
    "### <font color='#2b4750' face='微软雅黑'>1.1 函数特点</font><a name='1.1'></a>\n",
    "[<font color='black' face='微软雅黑'>回到章首</font>](#1)\n",
    "\n",
    "### 抽象和重复 (Abstration and Reusability)\n",
    "\n",
    "不用函数的程序。"
   ]
  },
  {
   "cell_type": "code",
   "execution_count": 2,
   "metadata": {},
   "outputs": [
    {
     "name": "stdout",
     "output_type": "stream",
     "text": [
      "Hello World!\n",
      "Hello World!\n",
      "Hello World!\n",
      "Hello World!\n",
      "Hello World!\n",
      "Hello World!\n"
     ]
    }
   ],
   "source": [
    "print('Hello World!') \n",
    "print('Hello World!') \n",
    "print('Hello World!') \n",
    "print('Hello World!') \n",
    "print('Hello World!') \n",
    "print('Hello World!')"
   ]
  },
  {
   "cell_type": "markdown",
   "metadata": {},
   "source": [
    "如果你想把感叹号改成巨号，按上面的写法你需要改 6 个地方，但是下面用函数的程序，你只需要在 `hello()` 里面改 1 个地方。"
   ]
  },
  {
   "cell_type": "code",
   "execution_count": 3,
   "metadata": {},
   "outputs": [
    {
     "name": "stdout",
     "output_type": "stream",
     "text": [
      "Hello World!\n",
      "Hello World!\n",
      "Hello World!\n",
      "Hello World!\n",
      "Hello World!\n",
      "Hello World!\n"
     ]
    }
   ],
   "source": [
    "def hello(): \n",
    "    print('Hello World!')\n",
    "\n",
    "hello()\n",
    "hello()\n",
    "hello()\n",
    "hello()\n",
    "hello()\n",
    "hello()"
   ]
  },
  {
   "cell_type": "markdown",
   "metadata": {},
   "source": [
    "### 模块化 (Modularity)\n",
    "\n",
    "非模块化的程序\n",
    "```\n",
    "# Main program\n",
    "\n",
    "# Code to read file in\n",
    "<statement>\n",
    "<statement>\n",
    "<statement>\n",
    "\n",
    "# Code to process file\n",
    "<statement>\n",
    "<statement>\n",
    "<statement>\n",
    "<statement>\n",
    "\n",
    "# Code to write file out\n",
    "<statement>\n",
    "<statement>\n",
    "```\n",
    "\n",
    "模块化的程序\n",
    "```\n",
    "def read(): \n",
    "    # Code to read file in\n",
    "    <statement>\n",
    "    <statement>\n",
    "    <statement>\n",
    "\n",
    "def process(): \n",
    "    # Code to process file\n",
    "    <statement>\n",
    "    <statement>\n",
    "    <statement>\n",
    "\n",
    "def write(): \n",
    "    # Code to write file out\n",
    "    <statement>\n",
    "    <statement>\n",
    "\n",
    "# Main program\n",
    "read()\n",
    "process()\n",
    "write()\n",
    "```\n",
    "哪种写法更清晰一目了然。"
   ]
  },
  {
   "cell_type": "markdown",
   "metadata": {},
   "source": [
    "### 命名空间 (Namespace)\n",
    "\n",
    "命名空间就是一个容器，Python 中有多个独立的命名空间，而且不同命名空间中的名称可以重复使用。Python 在查找**名称-对象**映射时，是按照什么顺序对命名空间的不同层次进行查找的？\n",
    "\n",
    "答案就是使用的是 LEGB 规则，表示的是 Local -> Enclosed -> Global -> Built-in，其中的箭头方向表示的是搜索顺序。\n",
    "\n",
    "- Local 可能是在一个函数或者类方法内部。\n",
    "- Enclosed 可能是嵌套函数内，比如说一个函数包裹在另一个函数内部。\n",
    "- Global 代表的是执行脚本自身的最高层。\n",
    "- Built-in 是 Python 为自身保留的特殊名称。\n",
    "\n",
    "先看看 **global** 和 **local** 作用域的关系。"
   ]
  },
  {
   "cell_type": "code",
   "execution_count": null,
   "metadata": {},
   "outputs": [],
   "source": [
    "x = 'global x'\n",
    "\n",
    "def test():\n",
    "    x = 'local x'\n",
    "    print(x)\n",
    "\n",
    "test()\n",
    "print(x)"
   ]
  },
  {
   "cell_type": "markdown",
   "metadata": {},
   "source": [
    "再看看 **build-in** 作用域里面自带的特殊名称。"
   ]
  },
  {
   "cell_type": "code",
   "execution_count": 82,
   "metadata": {},
   "outputs": [
    {
     "name": "stdout",
     "output_type": "stream",
     "text": [
      "['ArithmeticError', 'AssertionError', 'AttributeError', 'BaseException', 'BlockingIOError', 'BrokenPipeError', 'BufferError', 'BytesWarning', 'ChildProcessError', 'ConnectionAbortedError', 'ConnectionError', 'ConnectionRefusedError', 'ConnectionResetError', 'DeprecationWarning', 'EOFError', 'Ellipsis', 'EnvironmentError', 'Exception', 'False', 'FileExistsError', 'FileNotFoundError', 'FloatingPointError', 'FutureWarning', 'GeneratorExit', 'IOError', 'ImportError', 'ImportWarning', 'IndentationError', 'IndexError', 'InterruptedError', 'IsADirectoryError', 'KeyError', 'KeyboardInterrupt', 'LookupError', 'MemoryError', 'ModuleNotFoundError', 'NameError', 'None', 'NotADirectoryError', 'NotImplemented', 'NotImplementedError', 'OSError', 'OverflowError', 'PendingDeprecationWarning', 'PermissionError', 'ProcessLookupError', 'RecursionError', 'ReferenceError', 'ResourceWarning', 'RuntimeError', 'RuntimeWarning', 'StopAsyncIteration', 'StopIteration', 'SyntaxError', 'SyntaxWarning', 'SystemError', 'SystemExit', 'TabError', 'TimeoutError', 'True', 'TypeError', 'UnboundLocalError', 'UnicodeDecodeError', 'UnicodeEncodeError', 'UnicodeError', 'UnicodeTranslateError', 'UnicodeWarning', 'UserWarning', 'ValueError', 'Warning', 'WindowsError', 'ZeroDivisionError', '__IPYTHON__', '__build_class__', '__debug__', '__doc__', '__import__', '__loader__', '__name__', '__package__', '__spec__', 'abs', 'all', 'any', 'ascii', 'bin', 'bool', 'breakpoint', 'bytearray', 'bytes', 'callable', 'chr', 'classmethod', 'compile', 'complex', 'copyright', 'credits', 'delattr', 'dict', 'dir', 'display', 'divmod', 'enumerate', 'eval', 'exec', 'filter', 'float', 'format', 'frozenset', 'get_ipython', 'getattr', 'globals', 'hasattr', 'hash', 'help', 'hex', 'id', 'input', 'int', 'isinstance', 'issubclass', 'iter', 'len', 'license', 'list', 'locals', 'map', 'max', 'memoryview', 'min', 'next', 'object', 'oct', 'open', 'ord', 'pow', 'print', 'property', 'range', 'repr', 'reversed', 'round', 'set', 'setattr', 'slice', 'sorted', 'staticmethod', 'str', 'sum', 'super', 'tuple', 'type', 'vars', 'zip']\n"
     ]
    }
   ],
   "source": [
    "import builtins\n",
    "print( dir(builtins) )"
   ]
  },
  {
   "cell_type": "code",
   "execution_count": 88,
   "metadata": {},
   "outputs": [],
   "source": [
    "# min( [5, 10, 1] )"
   ]
  },
  {
   "cell_type": "markdown",
   "metadata": {},
   "source": [
    "最后来看看 **enclosed** 作用域。"
   ]
  },
  {
   "cell_type": "code",
   "execution_count": 95,
   "metadata": {},
   "outputs": [
    {
     "name": "stdout",
     "output_type": "stream",
     "text": [
      "local x\n",
      "enclosed x\n"
     ]
    }
   ],
   "source": [
    "#x = 'global x' \n",
    " \n",
    "def outer():\n",
    "    x = 'enclosed x'\n",
    " \n",
    "    def inner():\n",
    "        x = 'local x'\n",
    "        print(x)\n",
    "    \n",
    "    inner()\n",
    "    print(x)\n",
    "\n",
    "outer()\n",
    "#print(x)"
   ]
  },
  {
   "cell_type": "code",
   "execution_count": 93,
   "metadata": {},
   "outputs": [],
   "source": [
    "del x"
   ]
  },
  {
   "cell_type": "markdown",
   "metadata": {},
   "source": [
    "### <font color='#2b4750' face='微软雅黑'>1.2 简单例子</font><a name='1.2'></a>\n",
    "[<font color='black' face='微软雅黑'>回到章首</font>](#1)\n",
    "\n",
    "### 位置参数（Positional Argument）\n",
    "\n",
    "函数里最常见的参数类型就是**位置参数**。"
   ]
  },
  {
   "cell_type": "code",
   "execution_count": 1,
   "metadata": {},
   "outputs": [],
   "source": [
    "def func(qty, item, price):\n",
    "    print(f'{qty} {item} cost ${price:.2f}')"
   ]
  },
  {
   "cell_type": "markdown",
   "metadata": {},
   "source": [
    "调用函数，实参 `6`, `bananas` 和 `1.74` 分别传给形参 `qty`, `item` 和 `price`，运行结果正常。"
   ]
  },
  {
   "cell_type": "code",
   "execution_count": 2,
   "metadata": {},
   "outputs": [
    {
     "name": "stdout",
     "output_type": "stream",
     "text": [
      "6 bananas cost $1.74\n"
     ]
    }
   ],
   "source": [
    " func(6, 'bananas', 1.74)"
   ]
  },
  {
   "cell_type": "markdown",
   "metadata": {},
   "source": [
    "假设实参顺序弄混了，`bananas`, `1.74` 和 `6` 分别传给形参 `qty`, `item` 和 `price`，虽然运行没有报错，但结果无意义。"
   ]
  },
  {
   "cell_type": "code",
   "execution_count": 4,
   "metadata": {},
   "outputs": [
    {
     "name": "stdout",
     "output_type": "stream",
     "text": [
      "bananas 1.74 cost $6.00\n"
     ]
    }
   ],
   "source": [
    " func('bananas', 1.74, 6)"
   ]
  },
  {
   "cell_type": "markdown",
   "metadata": {},
   "source": [
    "当实参个数不等于形参个数，程序会报错 `TypeError`。\n",
    "\n",
    "当实参个数**小于**形参个数，会有“函数缺失 n 个实参”之类的提示。"
   ]
  },
  {
   "cell_type": "code",
   "execution_count": 7,
   "metadata": {},
   "outputs": [
    {
     "ename": "TypeError",
     "evalue": "func() missing 2 required positional arguments: 'item' and 'price'",
     "output_type": "error",
     "traceback": [
      "\u001b[1;31m---------------------------------------------------------------------------\u001b[0m",
      "\u001b[1;31mTypeError\u001b[0m                                 Traceback (most recent call last)",
      "\u001b[1;32m<ipython-input-7-05e9c78ca5b6>\u001b[0m in \u001b[0;36m<module>\u001b[1;34m\u001b[0m\n\u001b[1;32m----> 1\u001b[1;33m \u001b[0mfunc\u001b[0m\u001b[1;33m(\u001b[0m\u001b[1;36m6\u001b[0m\u001b[1;33m)\u001b[0m\u001b[1;33m\u001b[0m\u001b[1;33m\u001b[0m\u001b[0m\n\u001b[0m",
      "\u001b[1;31mTypeError\u001b[0m: func() missing 2 required positional arguments: 'item' and 'price'"
     ]
    }
   ],
   "source": [
    " func(6)"
   ]
  },
  {
   "cell_type": "markdown",
   "metadata": {},
   "source": [
    "当实参个数**大于**形参个数，会有“函数只能接受 n 个实参但实际 n+m 个实参”之类的提示。"
   ]
  },
  {
   "cell_type": "code",
   "execution_count": 6,
   "metadata": {},
   "outputs": [
    {
     "ename": "TypeError",
     "evalue": "func() takes 3 positional arguments but 4 were given",
     "output_type": "error",
     "traceback": [
      "\u001b[1;31m---------------------------------------------------------------------------\u001b[0m",
      "\u001b[1;31mTypeError\u001b[0m                                 Traceback (most recent call last)",
      "\u001b[1;32m<ipython-input-6-17426f8e803e>\u001b[0m in \u001b[0;36m<module>\u001b[1;34m\u001b[0m\n\u001b[1;32m----> 1\u001b[1;33m \u001b[0mfunc\u001b[0m\u001b[1;33m(\u001b[0m\u001b[1;36m6\u001b[0m\u001b[1;33m,\u001b[0m \u001b[1;34m'bananas'\u001b[0m\u001b[1;33m,\u001b[0m \u001b[1;36m1.74\u001b[0m\u001b[1;33m,\u001b[0m \u001b[1;34m'cheap'\u001b[0m\u001b[1;33m)\u001b[0m\u001b[1;33m\u001b[0m\u001b[1;33m\u001b[0m\u001b[0m\n\u001b[0m",
      "\u001b[1;31mTypeError\u001b[0m: func() takes 3 positional arguments but 4 were given"
     ]
    }
   ],
   "source": [
    " func(6, 'bananas', 1.74, 'cheap')"
   ]
  },
  {
   "cell_type": "markdown",
   "metadata": {},
   "source": [
    "### 关键词参数（Keyword Argument）\n",
    "\n",
    "我们还可以在调用函数时带着参数的关键词，用 `<keyword>=<value>` 这样的形式。每个 `<keyword>` 必须要和函数定义里的关键词匹配。"
   ]
  },
  {
   "cell_type": "code",
   "execution_count": 9,
   "metadata": {},
   "outputs": [
    {
     "name": "stdout",
     "output_type": "stream",
     "text": [
      "6 bananas cost $1.74\n"
     ]
    }
   ],
   "source": [
    "func(qty=6, item='bananas', price=1.74)"
   ]
  },
  {
   "cell_type": "markdown",
   "metadata": {},
   "source": [
    "如果函数定义里用的是 `price` 关键词，而你使用 `cost`，那么就错了。"
   ]
  },
  {
   "cell_type": "code",
   "execution_count": 11,
   "metadata": {},
   "outputs": [
    {
     "ename": "TypeError",
     "evalue": "func() got an unexpected keyword argument 'cost'",
     "output_type": "error",
     "traceback": [
      "\u001b[1;31m---------------------------------------------------------------------------\u001b[0m",
      "\u001b[1;31mTypeError\u001b[0m                                 Traceback (most recent call last)",
      "\u001b[1;32m<ipython-input-11-b5b1fddb0816>\u001b[0m in \u001b[0;36m<module>\u001b[1;34m\u001b[0m\n\u001b[1;32m----> 1\u001b[1;33m \u001b[0mfunc\u001b[0m\u001b[1;33m(\u001b[0m\u001b[0mqty\u001b[0m\u001b[1;33m=\u001b[0m\u001b[1;36m6\u001b[0m\u001b[1;33m,\u001b[0m \u001b[0mitem\u001b[0m\u001b[1;33m=\u001b[0m\u001b[1;34m'bananas'\u001b[0m\u001b[1;33m,\u001b[0m \u001b[0mcost\u001b[0m\u001b[1;33m=\u001b[0m\u001b[1;36m1.74\u001b[0m\u001b[1;33m)\u001b[0m\u001b[1;33m\u001b[0m\u001b[1;33m\u001b[0m\u001b[0m\n\u001b[0m",
      "\u001b[1;31mTypeError\u001b[0m: func() got an unexpected keyword argument 'cost'"
     ]
    }
   ],
   "source": [
    "func(qty=6, item='bananas', cost=1.74)"
   ]
  },
  {
   "cell_type": "markdown",
   "metadata": {},
   "source": [
    "使用关键词的最大好处就是 - 不用再记着参数的顺序了。"
   ]
  },
  {
   "cell_type": "code",
   "execution_count": 13,
   "metadata": {},
   "outputs": [
    {
     "name": "stdout",
     "output_type": "stream",
     "text": [
      "6 bananas cost $1.74\n"
     ]
    }
   ],
   "source": [
    "func(item='bananas', price=1.74, qty=6)"
   ]
  },
  {
   "cell_type": "markdown",
   "metadata": {},
   "source": [
    "当实参个数不等于形参个数，程序还是会报错 `TypeError`。"
   ]
  },
  {
   "cell_type": "code",
   "execution_count": 15,
   "metadata": {},
   "outputs": [
    {
     "ename": "TypeError",
     "evalue": "func() missing 1 required positional argument: 'price'",
     "output_type": "error",
     "traceback": [
      "\u001b[1;31m---------------------------------------------------------------------------\u001b[0m",
      "\u001b[1;31mTypeError\u001b[0m                                 Traceback (most recent call last)",
      "\u001b[1;32m<ipython-input-15-7e5958af07a5>\u001b[0m in \u001b[0;36m<module>\u001b[1;34m\u001b[0m\n\u001b[1;32m----> 1\u001b[1;33m \u001b[0mfunc\u001b[0m\u001b[1;33m(\u001b[0m\u001b[0mqty\u001b[0m\u001b[1;33m=\u001b[0m\u001b[1;36m6\u001b[0m\u001b[1;33m,\u001b[0m \u001b[0mitem\u001b[0m\u001b[1;33m=\u001b[0m\u001b[1;34m'bananas'\u001b[0m\u001b[1;33m)\u001b[0m\u001b[1;33m\u001b[0m\u001b[1;33m\u001b[0m\u001b[0m\n\u001b[0m",
      "\u001b[1;31mTypeError\u001b[0m: func() missing 1 required positional argument: 'price'"
     ]
    }
   ],
   "source": [
    "func(qty=6, item='bananas')"
   ]
  },
  {
   "cell_type": "markdown",
   "metadata": {},
   "source": [
    "我们可以混着**位置参数**和**关键词参数**来调用函数。"
   ]
  },
  {
   "cell_type": "code",
   "execution_count": 16,
   "metadata": {},
   "outputs": [
    {
     "name": "stdout",
     "output_type": "stream",
     "text": [
      "6 bananas cost $1.74\n"
     ]
    }
   ],
   "source": [
    " func(6, price=1.74, item='bananas')"
   ]
  },
  {
   "cell_type": "code",
   "execution_count": 18,
   "metadata": {},
   "outputs": [
    {
     "name": "stdout",
     "output_type": "stream",
     "text": [
      "6 bananas cost $1.74\n"
     ]
    }
   ],
   "source": [
    " func(6, 'bananas', price=1.74)"
   ]
  },
  {
   "cell_type": "markdown",
   "metadata": {},
   "source": [
    "但是**位置参数**一定要在**关键词参数**的前面。"
   ]
  },
  {
   "cell_type": "code",
   "execution_count": 20,
   "metadata": {},
   "outputs": [
    {
     "ename": "SyntaxError",
     "evalue": "positional argument follows keyword argument (<ipython-input-20-7c1a66cd71b7>, line 1)",
     "output_type": "error",
     "traceback": [
      "\u001b[1;36m  File \u001b[1;32m\"<ipython-input-20-7c1a66cd71b7>\"\u001b[1;36m, line \u001b[1;32m1\u001b[0m\n\u001b[1;33m    func(6, item='bananas', 1.74)\u001b[0m\n\u001b[1;37m                           ^\u001b[0m\n\u001b[1;31mSyntaxError\u001b[0m\u001b[1;31m:\u001b[0m positional argument follows keyword argument\n"
     ]
    }
   ],
   "source": [
    " func(6, item='bananas', 1.74)"
   ]
  },
  {
   "cell_type": "markdown",
   "metadata": {},
   "source": [
    "### 默认参数（Default Argument）\n",
    "\n",
    "如果你个形参在函数定义里以 <name>=<value> 形式出现，那么 <value> 就称为这个形参的默认值。"
   ]
  },
  {
   "cell_type": "code",
   "execution_count": 23,
   "metadata": {},
   "outputs": [],
   "source": [
    "def func(qty=6, item='bananas', price=1.74):\n",
    "    print(f'{qty} {item} cost ${price:.2f}')"
   ]
  },
  {
   "cell_type": "code",
   "execution_count": 24,
   "metadata": {},
   "outputs": [
    {
     "name": "stdout",
     "output_type": "stream",
     "text": [
      "4 apples cost $2.24\n"
     ]
    }
   ],
   "source": [
    "func(4, 'apples', 2.24)"
   ]
  },
  {
   "cell_type": "code",
   "execution_count": 25,
   "metadata": {},
   "outputs": [
    {
     "name": "stdout",
     "output_type": "stream",
     "text": [
      "4 apples cost $1.74\n"
     ]
    }
   ],
   "source": [
    "func(4, 'apples')"
   ]
  },
  {
   "cell_type": "code",
   "execution_count": 26,
   "metadata": {},
   "outputs": [
    {
     "name": "stdout",
     "output_type": "stream",
     "text": [
      "4 bananas cost $1.74\n"
     ]
    }
   ],
   "source": [
    "func(4)"
   ]
  },
  {
   "cell_type": "code",
   "execution_count": 27,
   "metadata": {},
   "outputs": [
    {
     "name": "stdout",
     "output_type": "stream",
     "text": [
      "6 bananas cost $1.74\n"
     ]
    }
   ],
   "source": [
    "func()"
   ]
  },
  {
   "cell_type": "markdown",
   "metadata": {},
   "source": [
    "综上所述：\n",
    "\n",
    "- **位置参数**必须与函数定义中的形参的**顺序**和**个数**一致。\n",
    "- **关键字参数**必须与函数定义中的形参数的**个数**一致，但是可以以任意顺序指定。\n",
    "- **默认参数**在调用函数时可以**被省略**，这时就用其默认值。"
   ]
  },
  {
   "cell_type": "markdown",
   "metadata": {},
   "source": [
    "# <font color='#dc2624' face='微软雅黑'>2. 普通函数</font><a name='2'></a>\n",
    "[<font color='black' face='微软雅黑'>回到目录</font>](#toc)\n",
    "\n",
    "Python 里面的普通函数 (normal function) 就像其他语言的函数一样，之所以说普通函数是因为还有些「不普通」的，比如匿名函数 (anonymous function)，高阶函数 (high-order function) 等等。\n",
    "\n",
    "即便是普通函数，Python 的函数具有非常灵活多样的参数形态，既可以实现简单的调用，又可以传入非常复杂的参数。从简到繁的参数形态如下：\n",
    "\n",
    "- 位置参数 (positional argument)\n",
    "- 默认参数 (default argument)\n",
    "- 可变参数 (variable argument)\n",
    "- 关键字参数 (keyword argument)\n",
    "- 命名关键字参数 (name keyword argument)\n",
    "\n",
    "### <font color='#2b4750' face='微软雅黑'>2.1 位置参数（Positional Argument）</font><a name='2.1'></a>\n",
    "[<font color='black' face='微软雅黑'>回到章首</font>](#2)\n",
    "\n",
    "用金融产品举例，每个产品都有自己的 ID，定义 instrument 函数，它只有一个位置参数。"
   ]
  },
  {
   "cell_type": "code",
   "execution_count": 17,
   "metadata": {},
   "outputs": [],
   "source": [
    "def instrument( id ):\n",
    "    print( 'id:', id )"
   ]
  },
  {
   "cell_type": "markdown",
   "metadata": {},
   "source": [
    "给 `id` 赋值 `'MM1001'` 并运行该函数，得到"
   ]
  },
  {
   "cell_type": "code",
   "execution_count": 20,
   "metadata": {},
   "outputs": [
    {
     "name": "stdout",
     "output_type": "stream",
     "text": [
      "id: MM1001\n"
     ]
    }
   ],
   "source": [
    "instrument( 'MM1001' )"
   ]
  },
  {
   "cell_type": "markdown",
   "metadata": {},
   "source": [
    "位置参数可以有多个，比如 `id` 和 `ntl` (代表 notional，本金，例如债券的本金是一亿，期权的本金是一百万等等)"
   ]
  },
  {
   "cell_type": "code",
   "execution_count": 19,
   "metadata": {},
   "outputs": [],
   "source": [
    "def instrument1( id, ntl ):\n",
    "    print( 'id:', id )\n",
    "    print( 'notional:', ntl )"
   ]
  },
  {
   "cell_type": "markdown",
   "metadata": {},
   "source": [
    "给 `ntl` 赋值 `100000` 并运行该函数，得到"
   ]
  },
  {
   "cell_type": "code",
   "execution_count": 21,
   "metadata": {},
   "outputs": [
    {
     "name": "stdout",
     "output_type": "stream",
     "text": [
      "id: MM1001\n",
      "notional: 1000000\n"
     ]
    }
   ],
   "source": [
    "instrument1( 'MM1001', 1000000 )"
   ]
  },
  {
   "cell_type": "markdown",
   "metadata": {},
   "source": [
    "如果你没有给 `ntl` 赋值，程序会报错"
   ]
  },
  {
   "cell_type": "code",
   "execution_count": 22,
   "metadata": {},
   "outputs": [
    {
     "ename": "TypeError",
     "evalue": "instrument1() missing 1 required positional argument: 'ntl'",
     "output_type": "error",
     "traceback": [
      "\u001b[1;31m---------------------------------------------------------------------------\u001b[0m",
      "\u001b[1;31mTypeError\u001b[0m                                 Traceback (most recent call last)",
      "\u001b[1;32m<ipython-input-22-1d51c51931df>\u001b[0m in \u001b[0;36m<module>\u001b[1;34m\u001b[0m\n\u001b[1;32m----> 1\u001b[1;33m \u001b[0minstrument1\u001b[0m\u001b[1;33m(\u001b[0m \u001b[1;34m'MM1001'\u001b[0m \u001b[1;33m)\u001b[0m\u001b[1;33m\u001b[0m\u001b[1;33m\u001b[0m\u001b[0m\n\u001b[0m",
      "\u001b[1;31mTypeError\u001b[0m: instrument1() missing 1 required positional argument: 'ntl'"
     ]
    }
   ],
   "source": [
    "instrument1( 'MM1001' )"
   ]
  },
  {
   "cell_type": "markdown",
   "metadata": {},
   "source": [
    "### <font color='#2b4750' face='微软雅黑'>2.2 默认参数（Default Argument）</font><a name='2.2'></a>\n",
    "[<font color='black' face='微软雅黑'>回到章首</font>](#2)\n",
    "\n",
    "在对金融产品估值时，通常对一个单位的产品先估值，再乘以产品具体的本金。比如 1 美元的债券现值为 0.98 美元，那么 1 亿美元的债券现值为 98,000,000 美元。\n",
    "\n",
    "因此我们将 `ntl` 设为默认参数，并设定一个默认值 1。"
   ]
  },
  {
   "cell_type": "code",
   "execution_count": 23,
   "metadata": {},
   "outputs": [],
   "source": [
    "def instrument2( id, ntl=1 ):\n",
    "    print( 'id:', id )\n",
    "    print( 'notional:', ntl )"
   ]
  },
  {
   "cell_type": "markdown",
   "metadata": {},
   "source": [
    "这时调用 `instrument2` 不给 `ntl` 赋值也可以运行，`ntl` 就取其默认值 1。"
   ]
  },
  {
   "cell_type": "code",
   "execution_count": 24,
   "metadata": {},
   "outputs": [
    {
     "name": "stdout",
     "output_type": "stream",
     "text": [
      "id: MM1001\n",
      "notional: 1\n"
     ]
    }
   ],
   "source": [
    "instrument2( 'MM1001' )"
   ]
  },
  {
   "cell_type": "markdown",
   "metadata": {},
   "source": [
    "当然你可以把 `ntl` 像位置参数那样对待，给它设定任何值"
   ]
  },
  {
   "cell_type": "code",
   "execution_count": 25,
   "metadata": {},
   "outputs": [
    {
     "name": "stdout",
     "output_type": "stream",
     "text": [
      "id: MM1001\n",
      "notional: 100\n"
     ]
    }
   ],
   "source": [
    "instrument2( 'MM1001', 100 )"
   ]
  },
  {
   "cell_type": "markdown",
   "metadata": {},
   "source": [
    "但是默认函数一定要放在位置参数**后面**，不然程序会报错。"
   ]
  },
  {
   "cell_type": "code",
   "execution_count": 26,
   "metadata": {},
   "outputs": [
    {
     "ename": "SyntaxError",
     "evalue": "non-default argument follows default argument (<ipython-input-26-4edcae2f6b4b>, line 1)",
     "output_type": "error",
     "traceback": [
      "\u001b[1;36m  File \u001b[1;32m\"<ipython-input-26-4edcae2f6b4b>\"\u001b[1;36m, line \u001b[1;32m1\u001b[0m\n\u001b[1;33m    def instrument2( ntl=1, id ):\u001b[0m\n\u001b[1;37m                    ^\u001b[0m\n\u001b[1;31mSyntaxError\u001b[0m\u001b[1;31m:\u001b[0m non-default argument follows default argument\n"
     ]
    }
   ],
   "source": [
    "def instrument2( ntl=1, id ):\n",
    "    print( 'id:', id )\n",
    "    print( 'notional:', ntl )"
   ]
  },
  {
   "cell_type": "markdown",
   "metadata": {},
   "source": [
    "当然默认参数可以是多个，比如 `ntl` 和 `curR` (报表货币，对于中国的银行用 CNY)"
   ]
  },
  {
   "cell_type": "code",
   "execution_count": 27,
   "metadata": {},
   "outputs": [],
   "source": [
    "def instrument3( id, ntl=1, curR='CNY' ):\n",
    "    print( 'id:', id )\n",
    "    print( 'notional:', ntl )\n",
    "    print( 'reporting currency:', curR)"
   ]
  },
  {
   "cell_type": "markdown",
   "metadata": {},
   "source": [
    "假设我们先给 `ntl` 和 `curR` 赋值 `100` 和 `'USD'`"
   ]
  },
  {
   "cell_type": "code",
   "execution_count": 28,
   "metadata": {},
   "outputs": [
    {
     "name": "stdout",
     "output_type": "stream",
     "text": [
      "id: MM1001\n",
      "notional: 100\n",
      "reporting currency: USD\n"
     ]
    }
   ],
   "source": [
    "instrument3( 'MM1001', 100, 'USD' )"
   ]
  },
  {
   "cell_type": "markdown",
   "metadata": {},
   "source": [
    "但有时在调用函数时，我们会记不住参数的顺序。比如 `ntl` 和 `curR` 的位置写反了"
   ]
  },
  {
   "cell_type": "code",
   "execution_count": 30,
   "metadata": {},
   "outputs": [
    {
     "name": "stdout",
     "output_type": "stream",
     "text": [
      "id: MM1001\n",
      "notional: USD\n",
      "reporting currency: 100\n"
     ]
    }
   ],
   "source": [
    "instrument3( 'MM1001', 'USD', 100 )"
   ]
  },
  {
   "cell_type": "markdown",
   "metadata": {},
   "source": [
    "得到的结果毫无意义。这时只要在调用参数把它的**关键字**也带上，我们就可以随便调换参数的顺序。"
   ]
  },
  {
   "cell_type": "code",
   "execution_count": 32,
   "metadata": {},
   "outputs": [
    {
     "name": "stdout",
     "output_type": "stream",
     "text": [
      "id: MM1001\n",
      "notional: 100\n",
      "reporting currency: USD\n"
     ]
    }
   ],
   "source": [
    "instrument3( 'MM1001', curR='USD', ntl=100 )"
   ]
  },
  {
   "cell_type": "markdown",
   "metadata": {},
   "source": [
    "### <font color='#2b4750' face='微软雅黑'>2.3 可变参数（Variable Argument）</font><a name='2.3'></a>\n",
    "[<font color='black' face='微软雅黑'>回到章首</font>](#2)\n",
    "\n",
    "金融产品未来多个折现现金流 (discounted cash flow, DCF)，但不知道具体多少个，这时我们可以用 `*args` 来表示不确定个数的 DCF。下面程序也对 DCF 加总得到产品现值 (present value, PV)"
   ]
  },
  {
   "cell_type": "code",
   "execution_count": 33,
   "metadata": {},
   "outputs": [],
   "source": [
    "def instrument4( id, ntl=1, curR='CNY', *args ):\n",
    "    PV = 0\n",
    "    for n in args:\n",
    "        PV = PV + n\n",
    "\n",
    "    print( 'id:', id )\n",
    "    print( 'notional:', ntl )\n",
    "    print( 'reporting currency:', curR )\n",
    "    print( 'present value:', PV*ntl )"
   ]
  },
  {
   "cell_type": "markdown",
   "metadata": {},
   "source": [
    "如果一个产品 (单位本金) 在后 3 年的折现现金流为 1, 2, 3，将它们传入 `*args`，计算出它的现值为 600 = 100*(1+2+3)。 "
   ]
  },
  {
   "cell_type": "code",
   "execution_count": 34,
   "metadata": {},
   "outputs": [
    {
     "name": "stdout",
     "output_type": "stream",
     "text": [
      "id: MM1001\n",
      "notional: 100\n",
      "reporting currency: EUR\n",
      "present value: 600\n"
     ]
    }
   ],
   "source": [
    "instrument4( 'MM1001', 100, 'EUR', 1, 2, 3 )"
   ]
  },
  {
   "cell_type": "markdown",
   "metadata": {},
   "source": [
    "除了直接传入多个参数之外，还可以将所有参数先组装成**元组或者列表** DCF，用以`*DCF`的形式传入函数 (DCF 是个元组或者列表，前面加个通配符 `*` 是拆散 DCF，把其元素传入函数中)"
   ]
  },
  {
   "cell_type": "code",
   "execution_count": 35,
   "metadata": {},
   "outputs": [
    {
     "name": "stdout",
     "output_type": "stream",
     "text": [
      "id: MM1001\n",
      "notional: 10\n",
      "reporting currency: EUR\n",
      "present value: 150\n"
     ]
    }
   ],
   "source": [
    "DCF = (1, 2, 3, 4, 5)\n",
    "instrument4( 'MM1001', 10, 'EUR', *DCF )"
   ]
  },
  {
   "cell_type": "code",
   "execution_count": 36,
   "metadata": {},
   "outputs": [
    {
     "name": "stdout",
     "output_type": "stream",
     "text": [
      "id: MM1001\n",
      "notional: 10\n",
      "reporting currency: EUR\n",
      "present value: 150\n"
     ]
    }
   ],
   "source": [
    "DCF = [1, 2, 3, 4, 5]\n",
    "instrument4( 'MM1001', 10, 'EUR', *DCF )"
   ]
  },
  {
   "cell_type": "markdown",
   "metadata": {},
   "source": [
    "可变参数用两种方式传入\n",
    "\n",
    "1. 直接传入，`func(1, 2, 3)`\n",
    "2. 先组装列表或元组，再通过 `*args` 传入，`func(*[1, 2, 3])` 或 `func(*(1, 2, 3))`"
   ]
  },
  {
   "cell_type": "markdown",
   "metadata": {},
   "source": [
    "### <font color='#2b4750' face='微软雅黑'>2.4 关键词参数（Keyword Argument）</font><a name='2.4'></a>\n",
    "[<font color='black' face='微软雅黑'>回到章首</font>](#2)\n",
    "\n",
    "在定义金融产品，有可能不断增加新的信息，比如交易对手、工作日惯例、工作日计数惯例等等。我们可以用关键字参数来满足这种需求，即用 `kw`。"
   ]
  },
  {
   "cell_type": "code",
   "execution_count": 37,
   "metadata": {},
   "outputs": [],
   "source": [
    "def instrument5( id, ntl=1, curR='CNY', *args, **kw ):\n",
    "    PV = 0\n",
    "    for n in args:\n",
    "        PV = PV + n\n",
    "\n",
    "    print( 'id:', id )\n",
    "    print( 'notional:', ntl )\n",
    "    print( 'reporting currency:', curR )\n",
    "    print( 'present value:', PV*ntl )\n",
    "    print( 'keyword:', kw)"
   ]
  },
  {
   "cell_type": "markdown",
   "metadata": {},
   "source": [
    "如果不传入任何关键字参数，`kw` 为空集。"
   ]
  },
  {
   "cell_type": "code",
   "execution_count": 38,
   "metadata": {},
   "outputs": [
    {
     "name": "stdout",
     "output_type": "stream",
     "text": [
      "id: MM1001\n",
      "notional: 100\n",
      "reporting currency: EUR\n",
      "present value: 600\n",
      "keyword: {}\n"
     ]
    }
   ],
   "source": [
    "instrument5( 'MM1001', 100, 'EUR', 1, 2, 3 )"
   ]
  },
  {
   "cell_type": "markdown",
   "metadata": {},
   "source": [
    "当知道交易对手 (counterparty) 是高盛时，给函数传入一个关键字参数，`ctp = 'GS'`"
   ]
  },
  {
   "cell_type": "code",
   "execution_count": 39,
   "metadata": {},
   "outputs": [
    {
     "name": "stdout",
     "output_type": "stream",
     "text": [
      "id: MM1001\n",
      "notional: 100\n",
      "reporting currency: EUR\n",
      "present value: 600\n",
      "keyword: {'ctp': 'GS'}\n"
     ]
    }
   ],
   "source": [
    "instrument5( 'MM1001', 100, 'EUR', 1, 2, 3, ctp='GS' )"
   ]
  },
  {
   "cell_type": "markdown",
   "metadata": {},
   "source": [
    "当知道日期计数 (daycount) 是 act/365 时，再给函数传入一个关键字参数，`dc = 'act/365'`"
   ]
  },
  {
   "cell_type": "code",
   "execution_count": 40,
   "metadata": {},
   "outputs": [
    {
     "name": "stdout",
     "output_type": "stream",
     "text": [
      "id: MM1001\n",
      "notional: 100\n",
      "reporting currency: EUR\n",
      "present value: 600\n",
      "keyword: {'dc': 'act/365', 'ctp': 'GS'}\n"
     ]
    }
   ],
   "source": [
    "instrument5( 'MM1001', 100, 'EUR', 1, 2, 3, dc='act/365', ctp='GS' )"
   ]
  },
  {
   "cell_type": "markdown",
   "metadata": {},
   "source": [
    "除了直接传入多个参数之外，还可以将所有参数先组装成字典 `Conv`，用以 `**Conv` 的形式传入函数 (`Conv` 是个字典，前面加个通配符 `**` 是拆散字典，把字典的键值对传入函数中)"
   ]
  },
  {
   "cell_type": "code",
   "execution_count": 41,
   "metadata": {},
   "outputs": [
    {
     "name": "stdout",
     "output_type": "stream",
     "text": [
      "id: MM1001\n",
      "notional: 10\n",
      "reporting currency: EUR\n",
      "present value: 150\n",
      "keyword: {'dc': 'act/365', 'bdc': 'following'}\n"
     ]
    }
   ],
   "source": [
    "DCF = (1, 2, 3, 4, 5)\n",
    "Conv = {'dc':'act/365', 'bdc':'following'}\n",
    "instrument5( 'MM1001', 10, 'EUR', *DCF, **Conv )"
   ]
  },
  {
   "cell_type": "markdown",
   "metadata": {},
   "source": [
    "### <font color='#2b4750' face='微软雅黑'>2.5 命名关键字参数（Name Keyword Argument）</font><a name='2.5'></a>\n",
    "[<font color='black' face='微软雅黑'>回到章首</font>](#2)\n",
    "\n",
    "对于关键字参数，函数的调用者可以传入任意不受限制的关键字参数。\n",
    "\n",
    "如果要限制关键字参数的名字，就可以用命名关键字参数。例如，用户希望交易对手 `ctp` 是个关键字参数。这种方式定义的函数如下："
   ]
  },
  {
   "cell_type": "code",
   "execution_count": 42,
   "metadata": {},
   "outputs": [],
   "source": [
    "def instrument6( id, ntl=1, curR='CNY', *, ctp, **kw ):\n",
    "    print( 'id:', id )\n",
    "    print( 'notional:', ntl )\n",
    "    print( 'reporting currency:', curR )\n",
    "    print( 'counterparty:', ctp )\n",
    "    print( 'keyword:', kw)"
   ]
  },
  {
   "cell_type": "markdown",
   "metadata": {},
   "source": [
    "从调用函数 `instrument6` 得到的结果可看出 `ctp` 是命名关键字参数，而 `dc` 是关键字参数。"
   ]
  },
  {
   "cell_type": "code",
   "execution_count": 43,
   "metadata": {},
   "outputs": [
    {
     "name": "stdout",
     "output_type": "stream",
     "text": [
      "id: MM1001\n",
      "notional: 100\n",
      "reporting currency: EUR\n",
      "counterparty: GS\n",
      "keyword: {'dc': 'act/365'}\n"
     ]
    }
   ],
   "source": [
    "instrument6( 'MM1001', 100, 'EUR', dc='act/365', ctp='GS' )"
   ]
  },
  {
   "cell_type": "markdown",
   "metadata": {},
   "source": [
    "使用命名关键字参数时，要特别注意不能缺少参数名。下例没有写参数名 `ctp`，因此 `'GS'` 被当成位置参数，而原函数只有 3 个位置函数，现在调用了 4 个，因此程序会报错："
   ]
  },
  {
   "cell_type": "code",
   "execution_count": 44,
   "metadata": {},
   "outputs": [
    {
     "ename": "TypeError",
     "evalue": "instrument6() takes from 1 to 3 positional arguments but 4 were given",
     "output_type": "error",
     "traceback": [
      "\u001b[1;31m---------------------------------------------------------------------------\u001b[0m",
      "\u001b[1;31mTypeError\u001b[0m                                 Traceback (most recent call last)",
      "\u001b[1;32m<ipython-input-44-db4cd91348b8>\u001b[0m in \u001b[0;36m<module>\u001b[1;34m\u001b[0m\n\u001b[1;32m----> 1\u001b[1;33m \u001b[0minstrument6\u001b[0m\u001b[1;33m(\u001b[0m \u001b[1;34m'MM1001'\u001b[0m\u001b[1;33m,\u001b[0m \u001b[1;36m100\u001b[0m\u001b[1;33m,\u001b[0m \u001b[1;34m'EUR'\u001b[0m\u001b[1;33m,\u001b[0m \u001b[1;34m'GS'\u001b[0m\u001b[1;33m,\u001b[0m \u001b[0mdc\u001b[0m\u001b[1;33m=\u001b[0m\u001b[1;34m'act/365'\u001b[0m \u001b[1;33m)\u001b[0m\u001b[1;33m\u001b[0m\u001b[1;33m\u001b[0m\u001b[0m\n\u001b[0m",
      "\u001b[1;31mTypeError\u001b[0m: instrument6() takes from 1 to 3 positional arguments but 4 were given"
     ]
    }
   ],
   "source": [
    "instrument6( 'MM1001', 100, 'EUR', 'GS', dc='act/365' )"
   ]
  },
  {
   "cell_type": "markdown",
   "metadata": {},
   "source": [
    "### <font color='#2b4750' face='微软雅黑'>2.6 参数组合</font><a name='2.6'></a>\n",
    "[<font color='black' face='微软雅黑'>回到章首</font>](#2)\n",
    "\n",
    "在 Python 中定义函数，可以用位置参数、默认参数、可变参数、命名关键字参数和关键字参数，这 5 种参数中的 4 个都可以一起使用，但是注意，参数定义的顺序必须是：\n",
    "\n",
    "- 位置参数 --> 默认参数 --> 可变参数 --> 关键字参数。\n",
    "- 位置参数 --> 默认参数 --> 命名关键字参数 --> 关键字参数。\n",
    "\n",
    "要注意定义可变参数和关键字参数的语法：\n",
    "\n",
    "- `*args` 是可变参数，`args` 接收的是一个 `tuple` 或者 `list`\n",
    "- `**kw` 是关键字参数，`kw` 接收的是一个 `dict`\n",
    "\n",
    "首先看 `位置参数 --> 默认参数 --> 可变参数 --> 关键字参数`:"
   ]
  },
  {
   "cell_type": "code",
   "execution_count": 45,
   "metadata": {},
   "outputs": [],
   "source": [
    "def instrument7( id, ntl=1, curR='CNY', *args, **kw ):\n",
    "    PV = 0\n",
    "    for n in args:\n",
    "        PV = PV + n\n",
    "\n",
    "    print( 'id:', id )\n",
    "    print( 'notional:', ntl )\n",
    "    print( 'reporting currency:', curR )\n",
    "    print( 'present value:', PV*ntl )\n",
    "    print( 'keyword:', kw)"
   ]
  },
  {
   "cell_type": "code",
   "execution_count": 46,
   "metadata": {},
   "outputs": [
    {
     "name": "stdout",
     "output_type": "stream",
     "text": [
      "id: MM1001\n",
      "notional: 100\n",
      "reporting currency: EUR\n",
      "present value: 600\n",
      "keyword: {'dc': 'act/365', 'ctp': 'GS'}\n"
     ]
    }
   ],
   "source": [
    "DCF = (1, 2, 3)\n",
    "info = {'dc':'act/365', 'ctp':'GS'}\n",
    "instrument7( 'MM1001', 100, 'EUR', *DCF, **info )"
   ]
  },
  {
   "cell_type": "markdown",
   "metadata": {},
   "source": [
    "第二种 `位置参数 --> 默认参数 --> 命名关键字参数 --> 关键字参数`"
   ]
  },
  {
   "cell_type": "code",
   "execution_count": 47,
   "metadata": {},
   "outputs": [],
   "source": [
    "def instrument8( id, *, ctp, ntl=1, curR='CNY', **kw ):\n",
    "    print( 'id:', id )\n",
    "    print( 'notional:', ntl )\n",
    "    print( 'reporting currency:', curR )\n",
    "    print( 'counterparty:', ctp )\n",
    "    print( 'keyword:', kw)"
   ]
  },
  {
   "cell_type": "code",
   "execution_count": 48,
   "metadata": {},
   "outputs": [
    {
     "name": "stdout",
     "output_type": "stream",
     "text": [
      "id: MM1001\n",
      "notional: 1\n",
      "reporting currency: CNY\n",
      "counterparty: BOC\n",
      "keyword: {'dc': 'act/365', 'asset': 'FX', 'evaldate': '15-Apr-2019'}\n"
     ]
    }
   ],
   "source": [
    "info = {'dc':'act/365', 'asset':'FX', 'evaldate':'15-Apr-2019'}\n",
    "instrument8( 'MM1001', ctp='BOC', **info)"
   ]
  },
  {
   "cell_type": "markdown",
   "metadata": {},
   "source": [
    "# <font color='#dc2624' face='微软雅黑'>3. 匿名函数</font><a name='3'></a>\n",
    "[<font color='black' face='微软雅黑'>回到目录</font>](#toc)\n",
    "\n",
    "### <font color='#2b4750' face='微软雅黑'>3.1 函数用法</font><a name='3.1'></a>\n",
    "[<font color='black' face='微软雅黑'>回到章首</font>](#3)\n",
    "\n",
    "除了用 `def` 关键词定义的普通函数，还可以用 `lambda` 关键词定义的匿名函数。\n",
    "\n",
    "```\n",
    "lambda argument_list : expression \n",
    "```\n",
    "解释一下函数里面的各个部分：\n",
    "- `lambda` - 定义匿名函数的关键词。\n",
    "- `argument_list` - 函数参数，它们可以是位置参数、默认参数、关键字参数，和普通函数里的参数类型一样。\n",
    "- `：` - 冒号，在函数参数和表达式中间要加个冒号。\n",
    "- `expression` - 表达式，输入函数参数，输出一些值。"
   ]
  },
  {
   "cell_type": "markdown",
   "metadata": {},
   "source": [
    "### 位置参数\n",
    "`lambda x, y: x*y`，函数输入是 `x` 和 `y`，输出是它们的积 `x*y`"
   ]
  },
  {
   "cell_type": "code",
   "execution_count": 49,
   "metadata": {},
   "outputs": [
    {
     "data": {
      "text/plain": [
       "6"
      ]
     },
     "execution_count": 49,
     "metadata": {},
     "output_type": "execute_result"
    }
   ],
   "source": [
    "func = lambda x, y: x*y\n",
    "func(2, 3)"
   ]
  },
  {
   "cell_type": "markdown",
   "metadata": {},
   "source": [
    "### 默认参数\n",
    "`lambda x, y: x*y=5`，函数输入是 `x` 和 `y`，输出是它们的积 `x*y`，但是 `y` 有默认值 5"
   ]
  },
  {
   "cell_type": "code",
   "execution_count": 50,
   "metadata": {},
   "outputs": [
    {
     "data": {
      "text/plain": [
       "10"
      ]
     },
     "execution_count": 50,
     "metadata": {},
     "output_type": "execute_result"
    }
   ],
   "source": [
    "func = lambda x, y=5: x*y\n",
    "func(2)"
   ]
  },
  {
   "cell_type": "markdown",
   "metadata": {},
   "source": [
    "### 可变参数\n",
    "`lambda *args: sum(args)`, 输入是任意个数的参数，输出是它们的和"
   ]
  },
  {
   "cell_type": "code",
   "execution_count": 51,
   "metadata": {},
   "outputs": [
    {
     "data": {
      "text/plain": [
       "15"
      ]
     },
     "execution_count": 51,
     "metadata": {},
     "output_type": "execute_result"
    }
   ],
   "source": [
    "func = lambda *args: sum(args)\n",
    "func( 1, 2, 3, 4, 5 )"
   ]
  },
  {
   "cell_type": "markdown",
   "metadata": {},
   "source": [
    "### 关键字参数\n",
    "`lambda **kwargs: 1`, 输入是任意键值对参数，输出是 1"
   ]
  },
  {
   "cell_type": "code",
   "execution_count": 52,
   "metadata": {},
   "outputs": [
    {
     "data": {
      "text/plain": [
       "1"
      ]
     },
     "execution_count": 52,
     "metadata": {},
     "output_type": "execute_result"
    }
   ],
   "source": [
    "func = lambda **kw: 1\n",
    "func( name='Steven', age='36' )"
   ]
  },
  {
   "cell_type": "markdown",
   "metadata": {},
   "source": [
    "### <font color='#2b4750' face='微软雅黑'>3.2 误用过用</font><a name='3.2'></a>\n",
    "[<font color='black' face='微软雅黑'>回到章首</font>](#3)\n",
    "\n",
    "### 误用 (misuse) - 如果用 `lambda` 函数只是为了赋值给一个变量，用 `def` 来定义普通函数。"
   ]
  },
  {
   "cell_type": "code",
   "execution_count": 53,
   "metadata": {},
   "outputs": [
    {
     "name": "stdout",
     "output_type": "stream",
     "text": [
      "<function <lambda> at 0x00000232A855FAE8>\n",
      "<function sqr at 0x00000232A855F268>\n"
     ]
    }
   ],
   "source": [
    "lbd_sqr = lambda x: x ** 2\n",
    "def sqr(x): return x ** 2\n",
    "\n",
    "print( lbd_sqr )\n",
    "print( sqr )"
   ]
  },
  {
   "cell_type": "markdown",
   "metadata": {},
   "source": [
    "`lbd_sqr` 的返回值是以 `<lambda>` 标识的函数，而 `sqr` 的返回时是以 `sqr` 为标识的函数，明显后者一看就知道该函数是**计算平方**用的。"
   ]
  },
  {
   "cell_type": "markdown",
   "metadata": {},
   "source": [
    "### 过用 (overuse) - 如果一个函数很重要，它需要一个正规的名字。"
   ]
  },
  {
   "cell_type": "code",
   "execution_count": 66,
   "metadata": {},
   "outputs": [
    {
     "data": {
      "text/plain": [
       "['Accumulator',\n",
       " 'asian Option',\n",
       " 'Barrier Option',\n",
       " 'Cap',\n",
       " 'Forward',\n",
       " 'swap',\n",
       " 'Swaption']"
      ]
     },
     "execution_count": 66,
     "metadata": {},
     "output_type": "execute_result"
    }
   ],
   "source": [
    "product = [\"asian Option\", \"Barrier Option\", \"Forward\", \"swap\", \"Cap\", \"Swaption\", \"Accumulator\"]\n",
    "sorted(product, key=lambda p: (p.casefold(), len(p)))"
   ]
  },
  {
   "cell_type": "markdown",
   "metadata": {},
   "source": [
    "在 `sorted` 函数有个 `key` 的参数，`key` 的值是排序的根据。比如上面用 `lambda` 函数设定\n",
    "- 字符长度 `len(p)`\n",
    "- 忽略大小的首个字母 p.casefold()\n",
    "其中 `p` 表示具体的列表 `product`。\n",
    "\n",
    "坦白的说，这样用 `lambda` 函数看起来是很酷，但是增加了使用者的**思考成本**，用 `def` 显性定义个函数可读性会好很多。"
   ]
  },
  {
   "cell_type": "code",
   "execution_count": 67,
   "metadata": {},
   "outputs": [],
   "source": [
    "def alphabetical_and_length(str):\n",
    "    \"\"\"Return sort key: caseless string first, then length.\"\"\"\n",
    "    return (str.casefold(), len(str))"
   ]
  },
  {
   "cell_type": "code",
   "execution_count": 68,
   "metadata": {},
   "outputs": [
    {
     "data": {
      "text/plain": [
       "['Accumulator',\n",
       " 'asian Option',\n",
       " 'Barrier Option',\n",
       " 'Cap',\n",
       " 'Forward',\n",
       " 'swap',\n",
       " 'Swaption']"
      ]
     },
     "execution_count": 68,
     "metadata": {},
     "output_type": "execute_result"
    }
   ],
   "source": [
    "sorted(product, key=alphabetical_and_length)"
   ]
  },
  {
   "cell_type": "markdown",
   "metadata": {},
   "source": [
    "此外用普通函数还能加个函数说明 (docstring)，再起个描述性强的函数名，让人一看就知道该函数做什么。"
   ]
  },
  {
   "cell_type": "markdown",
   "metadata": {},
   "source": [
    "# <font color='#dc2624' face='微软雅黑'>4. 高阶函数</font><a name='4'></a>\n",
    "[<font color='black' face='微软雅黑'>回到目录</font>](#toc)\n",
    "\n",
    "### <font color='#2b4750' face='微软雅黑'>4.1 函数为参数</font><a name='4.1'></a>\n",
    "[<font color='black' face='微软雅黑'>回到章首</font>](#4)"
   ]
  },
  {
   "cell_type": "code",
   "execution_count": null,
   "metadata": {},
   "outputs": [],
   "source": []
  },
  {
   "cell_type": "markdown",
   "metadata": {},
   "source": [
    "### <font color='#2b4750' face='微软雅黑'>4.2 函数为返回</font><a name='4.2'></a>\n",
    "[<font color='black' face='微软雅黑'>回到章首</font>](#4)"
   ]
  },
  {
   "cell_type": "code",
   "execution_count": null,
   "metadata": {},
   "outputs": [],
   "source": []
  },
  {
   "cell_type": "markdown",
   "metadata": {},
   "source": [
    "# <font color='#dc2624' face='微软雅黑'>5. 函数编程</font><a name='5'></a>\n",
    "[<font color='black' face='微软雅黑'>回到目录</font>](#toc)"
   ]
  },
  {
   "cell_type": "code",
   "execution_count": null,
   "metadata": {},
   "outputs": [],
   "source": []
  }
 ],
 "metadata": {
  "kernelspec": {
   "display_name": "Python 3",
   "language": "python",
   "name": "python3"
  },
  "language_info": {
   "codemirror_mode": {
    "name": "ipython",
    "version": 3
   },
   "file_extension": ".py",
   "mimetype": "text/x-python",
   "name": "python",
   "nbconvert_exporter": "python",
   "pygments_lexer": "ipython3",
   "version": "3.7.7"
  }
 },
 "nbformat": 4,
 "nbformat_minor": 4
}
