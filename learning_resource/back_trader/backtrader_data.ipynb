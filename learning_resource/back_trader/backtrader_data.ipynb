{
 "cells": [
  {
   "cell_type": "markdown",
   "id": "064ad777-7496-4621-b58a-641ebc381889",
   "metadata": {},
   "source": [
    "## Backtrader 数据"
   ]
  },
  {
   "cell_type": "code",
   "execution_count": 3,
   "id": "2ee84ee0-0742-448c-9a44-088ce65ba261",
   "metadata": {},
   "outputs": [],
   "source": [
    "import pandas as pd\n",
    "import numpy as np\n",
    "import backtrader as bt\n",
    "import datetime"
   ]
  },
  {
   "cell_type": "markdown",
   "id": "048ba0cf-44ed-46fe-af0c-07f7fe9b7113",
   "metadata": {},
   "source": [
    "## self.data \n",
    "- 2种索引方式：a. 带中括号的常规方式 → self.datas[X]；b. 不带中括号的缩写方式 → self.dataX（data后面没有 s），其中 X 对应索引位置编号  0,1,2,3,...,N；\n",
    "\n",
    "- 使用负向索引位置编号 -1,-2,-3,...,-N 调用数据时，不支持缩写，必须带中括号[ ]，如 self.datas[-1]；\n",
    "\n",
    "- 默认情况下，Backtrader 指向的是 self.datas 中的第一个导入的数据集，所以该数据集的调用方式可以直接省略索引号，写法能最简洁，有 3 种等价形式：self.datas[0] ↔ self.data0 ↔ self.data；\n",
    "\n",
    "- 通过表格名称调用数据：self.getdatabyname('stockN')，表格名称是在导入数据时通过 name 参数设置的。\n"
   ]
  },
  {
   "cell_type": "code",
   "execution_count": 4,
   "id": "0e54fc4c-b4d8-42f8-a246-c659f7ea39bf",
   "metadata": {},
   "outputs": [
    {
     "ename": "NameError",
     "evalue": "name 'data1' is not defined",
     "output_type": "error",
     "traceback": [
      "\u001b[0;31m---------------------------------------------------------------------------\u001b[0m",
      "\u001b[0;31mNameError\u001b[0m                                 Traceback (most recent call last)",
      "\u001b[0;32m<ipython-input-4-c41e49880a12>\u001b[0m in \u001b[0;36m<module>\u001b[0;34m\u001b[0m\n\u001b[1;32m     21\u001b[0m \u001b[0med_date\u001b[0m \u001b[0;34m=\u001b[0m \u001b[0mdatetime\u001b[0m\u001b[0;34m.\u001b[0m\u001b[0mdatetime\u001b[0m\u001b[0;34m(\u001b[0m\u001b[0;36m2021\u001b[0m\u001b[0;34m,\u001b[0m\u001b[0;36m1\u001b[0m\u001b[0;34m,\u001b[0m\u001b[0;36m28\u001b[0m\u001b[0;34m)\u001b[0m\u001b[0;34m\u001b[0m\u001b[0;34m\u001b[0m\u001b[0m\n\u001b[1;32m     22\u001b[0m \u001b[0;31m# 添加 600466.SH 的行情数据\u001b[0m\u001b[0;34m\u001b[0m\u001b[0;34m\u001b[0m\u001b[0;34m\u001b[0m\u001b[0m\n\u001b[0;32m---> 23\u001b[0;31m datafeed1 = bt.feeds.PandasData(dataname=data1, \n\u001b[0m\u001b[1;32m     24\u001b[0m                                 \u001b[0mfromdate\u001b[0m\u001b[0;34m=\u001b[0m\u001b[0mst_date\u001b[0m\u001b[0;34m,\u001b[0m\u001b[0;34m\u001b[0m\u001b[0;34m\u001b[0m\u001b[0m\n\u001b[1;32m     25\u001b[0m                                 todate=ed_date)\n",
      "\u001b[0;31mNameError\u001b[0m: name 'data1' is not defined"
     ]
    }
   ],
   "source": [
    "class TestStrategy(bt.Strategy):\n",
    "    def __init__(self):\n",
    "        # 打印数据集和数据集对应的名称\n",
    "        print(\"-------------self.datas-------------\")\n",
    "        print(self.datas)\n",
    "        print(\"-------------self.data-------------\")\n",
    "        print(self.data._name, self.data) # 返回第一个导入的数据表格，缩写形式\n",
    "        print(\"-------------self.data0-------------\")\n",
    "        print(self.data0._name, self.data0) # 返回第一个导入的数据表格，缩写形式\n",
    "        print(\"-------------self.datas[0]-------------\")\n",
    "        print(self.datas[0]._name, self.datas[0]) # 返回第一个导入的数据表格，常规形式\n",
    "        print(\"-------------self.datas[1]-------------\")\n",
    "        print(self.datas[1]._name, self.datas[1]) # 返回第二个导入的数据表格，常规形式\n",
    "        print(\"-------------self.datas[-1]-------------\")\n",
    "        print(self.datas[-1]._name, self.datas[-1]) # 返回最后一个导入的数据表格\n",
    "        print(\"-------------self.datas[-2]-------------\")\n",
    "        print(self.datas[-2]._name, self.datas[-2]) # 返回倒数第二个导入的数据表格\n",
    "        \n",
    "cerebro = bt.Cerebro()\n",
    "st_date = datetime.datetime(2019,1,2)\n",
    "ed_date = datetime.datetime(2021,1,28)\n",
    "# 添加 600466.SH 的行情数据\n",
    "datafeed1 = bt.feeds.PandasData(dataname=data1, \n",
    "                                fromdate=st_date, \n",
    "                                todate=ed_date)\n",
    "cerebro.adddata(datafeed1, name='600466.SH')\n",
    "# 添加 603228.SH 的行情数据\n",
    "datafeed2 = bt.feeds.PandasData(dataname=data2, \n",
    "                                fromdate=st_date, \n",
    "                                todate=ed_date)\n",
    "cerebro.adddata(datafeed2, name='603228.SH')\n",
    "cerebro.addstrategy(TestStrategy)\n",
    "rasult = cerebro.run()"
   ]
  },
  {
   "cell_type": "code",
   "execution_count": null,
   "id": "889158b2-5d3b-436a-a89d-31773f0f9d94",
   "metadata": {},
   "outputs": [],
   "source": []
  }
 ],
 "metadata": {
  "kernelspec": {
   "display_name": "Python 3",
   "language": "python",
   "name": "python3"
  },
  "language_info": {
   "codemirror_mode": {
    "name": "ipython",
    "version": 3
   },
   "file_extension": ".py",
   "mimetype": "text/x-python",
   "name": "python",
   "nbconvert_exporter": "python",
   "pygments_lexer": "ipython3",
   "version": "3.8.8"
  }
 },
 "nbformat": 4,
 "nbformat_minor": 5
}
